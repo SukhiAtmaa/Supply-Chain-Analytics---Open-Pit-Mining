{
 "cells": [
  {
   "cell_type": "markdown",
   "id": "15a53b39",
   "metadata": {},
   "source": [
    "## Problem statement\n",
    "\n",
    "• The open-pit mine is facing problems of inefficient production and is losing\n",
    "customers' trust as they are not able to meet their demands even though\n",
    "there has been no surge in demand.\n",
    "\n",
    "• The mine has operations such as the digging of ore and crushing of ore into a\n",
    "finer composition where this ore gets transported between the diggers and\n",
    "crushers using transportation trucks.\n",
    "\n",
    "• Need to build a smart live monitoring system and need to understand the key\n",
    "metrics explained by the client."
   ]
  },
  {
   "cell_type": "code",
   "execution_count": 1,
   "id": "28ef3483",
   "metadata": {},
   "outputs": [],
   "source": [
    "#importing all the important libraries like numpy. pandas, matlplolib, and warnings to keep notebook clean\n",
    "import numpy as np\n",
    "import pandas as pd\n",
    "import matplotlib.pyplot as plt\n",
    "import seaborn as sns\n",
    "import warnings\n",
    "warnings.filterwarnings (\"ignore\")"
   ]
  },
  {
   "cell_type": "markdown",
   "id": "38c46207",
   "metadata": {},
   "source": [
    "### Importing DataSet 1 - CycleData"
   ]
  },
  {
   "cell_type": "code",
   "execution_count": 2,
   "id": "ee73d29c",
   "metadata": {},
   "outputs": [],
   "source": [
    "#importing File\n",
    "CD = pd.read_csv(r'E:\\DATA SCIENCE LAST\\CAPSTONE\\Inputs\\CycleData.csv')"
   ]
  },
  {
   "cell_type": "code",
   "execution_count": 3,
   "id": "7ace00ae",
   "metadata": {},
   "outputs": [
    {
     "name": "stdout",
     "output_type": "stream",
     "text": [
      "<class 'pandas.core.frame.DataFrame'>\n",
      "RangeIndex: 47344 entries, 0 to 47343\n",
      "Data columns (total 93 columns):\n",
      " #   Column                                      Non-Null Count  Dtype  \n",
      "---  ------                                      --------------  -----  \n",
      " 0   ASSOCPAYLOADNOMINAL                         21992 non-null  float64\n",
      " 1   AT Available Time (iMine)                   47344 non-null  int64  \n",
      " 2   Autonomous                                  44582 non-null  float64\n",
      " 3   Available SMU Time                          47344 non-null  int64  \n",
      " 4   Available Time                              47344 non-null  int64  \n",
      " 5   Completed Cycle Count                       47344 non-null  int64  \n",
      " 6   COMPLETEDCYCLEDURATION                      47344 non-null  int64  \n",
      " 7   Creation Mode                               47344 non-null  int64  \n",
      " 8   CT Calendar SMU Time                        47344 non-null  int64  \n",
      " 9   CT Calendar Time                            47344 non-null  int64  \n",
      " 10  Cycle Duration                              47344 non-null  int64  \n",
      " 11  Cycle SMU Duration                          47344 non-null  int64  \n",
      " 12  Cycle Type                                  47344 non-null  object \n",
      " 13  Delay Time                                  47344 non-null  int64  \n",
      " 14  Down Time                                   47344 non-null  int64  \n",
      " 15  DTE Down Time Equipment                     47344 non-null  int64  \n",
      " 16  Dumping Duration                            22590 non-null  float64\n",
      " 17  Dumping SMU Duration                        22590 non-null  float64\n",
      " 18  Destination Dumping Start Timestamp (GMT8)  21587 non-null  float64\n",
      " 19  Empty EFH Distance                          22590 non-null  float64\n",
      " 20  Empty EFH Length                            22590 non-null  float64\n",
      " 21  Empty Expected Travel Duration              22590 non-null  float64\n",
      " 22  Empty Fall Height                           22590 non-null  float64\n",
      " 23  Empty Plan Length                           22590 non-null  float64\n",
      " 24  Empty Rise Height                           22590 non-null  object \n",
      " 25  Empty Slope Distance                        22590 non-null  float64\n",
      " 26  Empty Slope Length                          22590 non-null  float64\n",
      " 27  Empty Target Travel Duration                22590 non-null  float64\n",
      " 28  Empty Travel Duration                       22590 non-null  float64\n",
      " 29  End Processor Name                          22541 non-null  object \n",
      " 30  Cycle End Timestamp (GMT8)                  47344 non-null  object \n",
      " 31  Estimated Fuel Used                         47344 non-null  int64  \n",
      " 32  Fuel Used                                   22590 non-null  float64\n",
      " 33  Full Expected Travel Duration               22590 non-null  float64\n",
      " 34  Full Travel Duration                        22590 non-null  float64\n",
      " 35  IC                                          47344 non-null  int64  \n",
      " 36  Idle Duration                               47344 non-null  int64  \n",
      " 37  iMine Availability                          47344 non-null  int64  \n",
      " 38  iMine Engine Hours                          47344 non-null  int64  \n",
      " 39  iMine Load FCTR Truck                       22590 non-null  object \n",
      " 40  iMine Operating Hours                       47344 non-null  int64  \n",
      " 41  iMine Utilisation                           47344 non-null  int64  \n",
      " 42  Loading Count                               44582 non-null  float64\n",
      " 43  Loading Duration                            44582 non-null  float64\n",
      " 44  Loading Efficiency                          21992 non-null  float64\n",
      " 45  Source Loading End Timestamp (GMT8)         43233 non-null  float64\n",
      " 46  Source Loading Start Timestamp (GMT8)       43233 non-null  float64\n",
      " 47  OPERATINGBURNRATE                           47344 non-null  float64\n",
      " 48  OPERATINGTIME (CAT)                         47344 non-null  int64  \n",
      " 49  OPERHOURSSECONDS                            47344 non-null  int64  \n",
      " 50  Payload (kg)                                44582 non-null  float64\n",
      " 51  Payload (t)                                 44582 non-null  float64\n",
      " 52  PREVIOUSSECONDARYMACHINE                    44418 non-null  object \n",
      " 53  PREVIOUSSINKDESTINATION                     22516 non-null  object \n",
      " 54  QUEUEATSINKDURATION                         22590 non-null  float64\n",
      " 55  Queuing at Sink Duration                    22590 non-null  float64\n",
      " 56  Queuing at Source Duration                  22590 non-null  float64\n",
      " 57  Queuing Duration                            22590 non-null  float64\n",
      " 58  Source Queuing Start Timestamp (GMT8)       16038 non-null  float64\n",
      " 59  SD_SCHEDULEDDOWNTIME                        47344 non-null  int64  \n",
      " 60  SDE_SCHEDULEDDOWNEQUIP                      47344 non-null  int64  \n",
      " 61  Cycle Start Timestamp (GMT8)                47344 non-null  object \n",
      " 62  TC                                          47344 non-null  int64  \n",
      " 63  TMPH                                        22590 non-null  float64\n",
      " 64  TOTALTIME (CAT)                             47344 non-null  int64  \n",
      " 65  Travelling Empty Duration                   44582 non-null  float64\n",
      " 66  Travelling Full Duration                    44582 non-null  float64\n",
      " 67  TRUCKQUEUEATSOURCEDURATION                  21992 non-null  float64\n",
      " 68  UNSCHEDULEDDOWNCOUNT                        47344 non-null  int64  \n",
      " 69  UNSCHEDULEDDOWNTIME                         47344 non-null  int64  \n",
      " 70  Record Updated Timestamp (GMT8)             47344 non-null  object \n",
      " 71  WAITFORDUMPDURATION                         22590 non-null  float64\n",
      " 72  WAITFORLOADDURATION                         22590 non-null  float64\n",
      " 73  WORKINGBURNRATE                             47344 non-null  float64\n",
      " 74  WORKINGDURATION                             47344 non-null  int64  \n",
      " 75  Source Location Name                        44477 non-null  object \n",
      " 76  Source Location Description                 5794 non-null   object \n",
      " 77  Source Location is Active Flag              47344 non-null  object \n",
      " 78  Source Location is Source Flag              47344 non-null  object \n",
      " 79  Destination Location Name                   22555 non-null  object \n",
      " 80  Destination Location Description            22555 non-null  object \n",
      " 81  Destination Location is Active Flag         47344 non-null  object \n",
      " 82  Destination Location is Source Flag         47344 non-null  object \n",
      " 83  Primary Machine Name                        47344 non-null  object \n",
      " 84  Primary Machine Category Name               47344 non-null  object \n",
      " 85  Primary Machine Class Name                  47344 non-null  object \n",
      " 86  Secondary Machine Name                      47344 non-null  object \n",
      " 87  Secondary Machine Category Name             47344 non-null  object \n",
      " 88  Secondary Machine Class Name                47344 non-null  object \n",
      " 89  Crew OID                                    47344 non-null  int64  \n",
      " 90  Job Code Description                        47344 non-null  object \n",
      " 91  Job Code Name                               47344 non-null  object \n",
      " 92  Job Type                                    799 non-null    object \n",
      "dtypes: float64(37), int64(30), object(26)\n",
      "memory usage: 33.6+ MB\n"
     ]
    }
   ],
   "source": [
    "CD.info('All')"
   ]
  },
  {
   "cell_type": "code",
   "execution_count": 4,
   "id": "db977ca1",
   "metadata": {},
   "outputs": [
    {
     "data": {
      "text/plain": [
       "(47344, 93)"
      ]
     },
     "execution_count": 4,
     "metadata": {},
     "output_type": "execute_result"
    }
   ],
   "source": [
    "CD.shape"
   ]
  },
  {
   "cell_type": "code",
   "execution_count": 5,
   "id": "5d0569d4",
   "metadata": {},
   "outputs": [
    {
     "data": {
      "text/html": [
       "<div>\n",
       "<style scoped>\n",
       "    .dataframe tbody tr th:only-of-type {\n",
       "        vertical-align: middle;\n",
       "    }\n",
       "\n",
       "    .dataframe tbody tr th {\n",
       "        vertical-align: top;\n",
       "    }\n",
       "\n",
       "    .dataframe thead th {\n",
       "        text-align: right;\n",
       "    }\n",
       "</style>\n",
       "<table border=\"1\" class=\"dataframe\">\n",
       "  <thead>\n",
       "    <tr style=\"text-align: right;\">\n",
       "      <th></th>\n",
       "      <th>ASSOCPAYLOADNOMINAL</th>\n",
       "      <th>AT Available Time (iMine)</th>\n",
       "      <th>Autonomous</th>\n",
       "      <th>Available SMU Time</th>\n",
       "      <th>Available Time</th>\n",
       "      <th>Completed Cycle Count</th>\n",
       "      <th>COMPLETEDCYCLEDURATION</th>\n",
       "      <th>Creation Mode</th>\n",
       "      <th>CT Calendar SMU Time</th>\n",
       "      <th>CT Calendar Time</th>\n",
       "      <th>...</th>\n",
       "      <th>Travelling Empty Duration</th>\n",
       "      <th>Travelling Full Duration</th>\n",
       "      <th>TRUCKQUEUEATSOURCEDURATION</th>\n",
       "      <th>UNSCHEDULEDDOWNCOUNT</th>\n",
       "      <th>UNSCHEDULEDDOWNTIME</th>\n",
       "      <th>WAITFORDUMPDURATION</th>\n",
       "      <th>WAITFORLOADDURATION</th>\n",
       "      <th>WORKINGBURNRATE</th>\n",
       "      <th>WORKINGDURATION</th>\n",
       "      <th>Crew OID</th>\n",
       "    </tr>\n",
       "  </thead>\n",
       "  <tbody>\n",
       "    <tr>\n",
       "      <th>count</th>\n",
       "      <td>21992.000000</td>\n",
       "      <td>47344.000000</td>\n",
       "      <td>44582.000000</td>\n",
       "      <td>4.734400e+04</td>\n",
       "      <td>47344.000000</td>\n",
       "      <td>47344.000000</td>\n",
       "      <td>47344.000000</td>\n",
       "      <td>47344.000000</td>\n",
       "      <td>4.734400e+04</td>\n",
       "      <td>47344.00000</td>\n",
       "      <td>...</td>\n",
       "      <td>44582.000000</td>\n",
       "      <td>44582.000000</td>\n",
       "      <td>21992.000000</td>\n",
       "      <td>47344.0</td>\n",
       "      <td>47344.000000</td>\n",
       "      <td>22590.000000</td>\n",
       "      <td>22590.0</td>\n",
       "      <td>47344.000000</td>\n",
       "      <td>47344.000000</td>\n",
       "      <td>4.734400e+04</td>\n",
       "    </tr>\n",
       "    <tr>\n",
       "      <th>mean</th>\n",
       "      <td>236726.082212</td>\n",
       "      <td>1669.828299</td>\n",
       "      <td>0.505944</td>\n",
       "      <td>1.029385e+03</td>\n",
       "      <td>1669.828299</td>\n",
       "      <td>0.953954</td>\n",
       "      <td>1316.291526</td>\n",
       "      <td>0.040343</td>\n",
       "      <td>1.218833e+03</td>\n",
       "      <td>1918.58546</td>\n",
       "      <td>...</td>\n",
       "      <td>232.600781</td>\n",
       "      <td>272.520412</td>\n",
       "      <td>172.488905</td>\n",
       "      <td>0.0</td>\n",
       "      <td>379.654402</td>\n",
       "      <td>34.019212</td>\n",
       "      <td>0.0</td>\n",
       "      <td>0.000023</td>\n",
       "      <td>1079.787196</td>\n",
       "      <td>1.072034e+10</td>\n",
       "    </tr>\n",
       "    <tr>\n",
       "      <th>std</th>\n",
       "      <td>27839.845082</td>\n",
       "      <td>4524.477286</td>\n",
       "      <td>0.499970</td>\n",
       "      <td>3.950018e+04</td>\n",
       "      <td>4524.477286</td>\n",
       "      <td>0.209587</td>\n",
       "      <td>2649.181559</td>\n",
       "      <td>0.416962</td>\n",
       "      <td>3.962458e+04</td>\n",
       "      <td>5337.67353</td>\n",
       "      <td>...</td>\n",
       "      <td>316.285592</td>\n",
       "      <td>326.533195</td>\n",
       "      <td>231.362611</td>\n",
       "      <td>0.0</td>\n",
       "      <td>3160.908112</td>\n",
       "      <td>87.041427</td>\n",
       "      <td>0.0</td>\n",
       "      <td>0.000160</td>\n",
       "      <td>2809.399233</td>\n",
       "      <td>1.284002e+06</td>\n",
       "    </tr>\n",
       "    <tr>\n",
       "      <th>min</th>\n",
       "      <td>0.000000</td>\n",
       "      <td>0.000000</td>\n",
       "      <td>0.000000</td>\n",
       "      <td>-2.426500e+04</td>\n",
       "      <td>0.000000</td>\n",
       "      <td>0.000000</td>\n",
       "      <td>0.000000</td>\n",
       "      <td>0.000000</td>\n",
       "      <td>-4.853000e+04</td>\n",
       "      <td>0.00000</td>\n",
       "      <td>...</td>\n",
       "      <td>0.000000</td>\n",
       "      <td>0.000000</td>\n",
       "      <td>0.000000</td>\n",
       "      <td>0.0</td>\n",
       "      <td>0.000000</td>\n",
       "      <td>0.000000</td>\n",
       "      <td>0.0</td>\n",
       "      <td>0.000000</td>\n",
       "      <td>0.000000</td>\n",
       "      <td>1.071815e+10</td>\n",
       "    </tr>\n",
       "    <tr>\n",
       "      <th>25%</th>\n",
       "      <td>240000.000000</td>\n",
       "      <td>271.000000</td>\n",
       "      <td>0.000000</td>\n",
       "      <td>2.700000e+01</td>\n",
       "      <td>271.000000</td>\n",
       "      <td>1.000000</td>\n",
       "      <td>245.000000</td>\n",
       "      <td>0.000000</td>\n",
       "      <td>3.700000e+01</td>\n",
       "      <td>276.00000</td>\n",
       "      <td>...</td>\n",
       "      <td>0.000000</td>\n",
       "      <td>0.000000</td>\n",
       "      <td>0.000000</td>\n",
       "      <td>0.0</td>\n",
       "      <td>0.000000</td>\n",
       "      <td>0.000000</td>\n",
       "      <td>0.0</td>\n",
       "      <td>0.000000</td>\n",
       "      <td>197.000000</td>\n",
       "      <td>1.071929e+10</td>\n",
       "    </tr>\n",
       "    <tr>\n",
       "      <th>50%</th>\n",
       "      <td>240000.000000</td>\n",
       "      <td>868.000000</td>\n",
       "      <td>1.000000</td>\n",
       "      <td>3.760000e+02</td>\n",
       "      <td>868.000000</td>\n",
       "      <td>1.000000</td>\n",
       "      <td>761.000000</td>\n",
       "      <td>0.000000</td>\n",
       "      <td>4.125000e+02</td>\n",
       "      <td>893.00000</td>\n",
       "      <td>...</td>\n",
       "      <td>0.000000</td>\n",
       "      <td>0.000000</td>\n",
       "      <td>93.000000</td>\n",
       "      <td>0.0</td>\n",
       "      <td>0.000000</td>\n",
       "      <td>0.000000</td>\n",
       "      <td>0.0</td>\n",
       "      <td>0.000000</td>\n",
       "      <td>507.000000</td>\n",
       "      <td>1.072034e+10</td>\n",
       "    </tr>\n",
       "    <tr>\n",
       "      <th>75%</th>\n",
       "      <td>240000.000000</td>\n",
       "      <td>1581.000000</td>\n",
       "      <td>1.000000</td>\n",
       "      <td>1.326000e+03</td>\n",
       "      <td>1581.000000</td>\n",
       "      <td>1.000000</td>\n",
       "      <td>1546.000000</td>\n",
       "      <td>0.000000</td>\n",
       "      <td>1.344000e+03</td>\n",
       "      <td>1597.00000</td>\n",
       "      <td>...</td>\n",
       "      <td>431.000000</td>\n",
       "      <td>557.000000</td>\n",
       "      <td>243.000000</td>\n",
       "      <td>0.0</td>\n",
       "      <td>0.000000</td>\n",
       "      <td>5.000000</td>\n",
       "      <td>0.0</td>\n",
       "      <td>0.000041</td>\n",
       "      <td>1302.000000</td>\n",
       "      <td>1.072147e+10</td>\n",
       "    </tr>\n",
       "    <tr>\n",
       "      <th>max</th>\n",
       "      <td>240000.000000</td>\n",
       "      <td>86400.000000</td>\n",
       "      <td>1.000000</td>\n",
       "      <td>8.577780e+06</td>\n",
       "      <td>86400.000000</td>\n",
       "      <td>1.000000</td>\n",
       "      <td>43023.000000</td>\n",
       "      <td>8.000000</td>\n",
       "      <td>8.577451e+06</td>\n",
       "      <td>86400.00000</td>\n",
       "      <td>...</td>\n",
       "      <td>5299.000000</td>\n",
       "      <td>2715.000000</td>\n",
       "      <td>3005.000000</td>\n",
       "      <td>0.0</td>\n",
       "      <td>43200.000000</td>\n",
       "      <td>1859.000000</td>\n",
       "      <td>0.0</td>\n",
       "      <td>0.021993</td>\n",
       "      <td>43200.000000</td>\n",
       "      <td>1.072258e+10</td>\n",
       "    </tr>\n",
       "  </tbody>\n",
       "</table>\n",
       "<p>8 rows × 67 columns</p>\n",
       "</div>"
      ],
      "text/plain": [
       "       ASSOCPAYLOADNOMINAL  AT Available Time (iMine)    Autonomous  \\\n",
       "count         21992.000000               47344.000000  44582.000000   \n",
       "mean         236726.082212                1669.828299      0.505944   \n",
       "std           27839.845082                4524.477286      0.499970   \n",
       "min               0.000000                   0.000000      0.000000   \n",
       "25%          240000.000000                 271.000000      0.000000   \n",
       "50%          240000.000000                 868.000000      1.000000   \n",
       "75%          240000.000000                1581.000000      1.000000   \n",
       "max          240000.000000               86400.000000      1.000000   \n",
       "\n",
       "       Available SMU Time  Available Time  Completed Cycle Count  \\\n",
       "count        4.734400e+04    47344.000000           47344.000000   \n",
       "mean         1.029385e+03     1669.828299               0.953954   \n",
       "std          3.950018e+04     4524.477286               0.209587   \n",
       "min         -2.426500e+04        0.000000               0.000000   \n",
       "25%          2.700000e+01      271.000000               1.000000   \n",
       "50%          3.760000e+02      868.000000               1.000000   \n",
       "75%          1.326000e+03     1581.000000               1.000000   \n",
       "max          8.577780e+06    86400.000000               1.000000   \n",
       "\n",
       "       COMPLETEDCYCLEDURATION  Creation Mode  CT Calendar SMU Time  \\\n",
       "count            47344.000000   47344.000000          4.734400e+04   \n",
       "mean              1316.291526       0.040343          1.218833e+03   \n",
       "std               2649.181559       0.416962          3.962458e+04   \n",
       "min                  0.000000       0.000000         -4.853000e+04   \n",
       "25%                245.000000       0.000000          3.700000e+01   \n",
       "50%                761.000000       0.000000          4.125000e+02   \n",
       "75%               1546.000000       0.000000          1.344000e+03   \n",
       "max              43023.000000       8.000000          8.577451e+06   \n",
       "\n",
       "       CT Calendar Time  ...  Travelling Empty Duration  \\\n",
       "count       47344.00000  ...               44582.000000   \n",
       "mean         1918.58546  ...                 232.600781   \n",
       "std          5337.67353  ...                 316.285592   \n",
       "min             0.00000  ...                   0.000000   \n",
       "25%           276.00000  ...                   0.000000   \n",
       "50%           893.00000  ...                   0.000000   \n",
       "75%          1597.00000  ...                 431.000000   \n",
       "max         86400.00000  ...                5299.000000   \n",
       "\n",
       "       Travelling Full Duration  TRUCKQUEUEATSOURCEDURATION  \\\n",
       "count              44582.000000                21992.000000   \n",
       "mean                 272.520412                  172.488905   \n",
       "std                  326.533195                  231.362611   \n",
       "min                    0.000000                    0.000000   \n",
       "25%                    0.000000                    0.000000   \n",
       "50%                    0.000000                   93.000000   \n",
       "75%                  557.000000                  243.000000   \n",
       "max                 2715.000000                 3005.000000   \n",
       "\n",
       "       UNSCHEDULEDDOWNCOUNT  UNSCHEDULEDDOWNTIME  WAITFORDUMPDURATION  \\\n",
       "count               47344.0         47344.000000         22590.000000   \n",
       "mean                    0.0           379.654402            34.019212   \n",
       "std                     0.0          3160.908112            87.041427   \n",
       "min                     0.0             0.000000             0.000000   \n",
       "25%                     0.0             0.000000             0.000000   \n",
       "50%                     0.0             0.000000             0.000000   \n",
       "75%                     0.0             0.000000             5.000000   \n",
       "max                     0.0         43200.000000          1859.000000   \n",
       "\n",
       "       WAITFORLOADDURATION  WORKINGBURNRATE  WORKINGDURATION      Crew OID  \n",
       "count              22590.0     47344.000000     47344.000000  4.734400e+04  \n",
       "mean                   0.0         0.000023      1079.787196  1.072034e+10  \n",
       "std                    0.0         0.000160      2809.399233  1.284002e+06  \n",
       "min                    0.0         0.000000         0.000000  1.071815e+10  \n",
       "25%                    0.0         0.000000       197.000000  1.071929e+10  \n",
       "50%                    0.0         0.000000       507.000000  1.072034e+10  \n",
       "75%                    0.0         0.000041      1302.000000  1.072147e+10  \n",
       "max                    0.0         0.021993     43200.000000  1.072258e+10  \n",
       "\n",
       "[8 rows x 67 columns]"
      ]
     },
     "execution_count": 5,
     "metadata": {},
     "output_type": "execute_result"
    }
   ],
   "source": [
    "CD.describe()"
   ]
  },
  {
   "cell_type": "markdown",
   "id": "753a3f1a",
   "metadata": {},
   "source": [
    "### Checking Null values"
   ]
  },
  {
   "cell_type": "code",
   "execution_count": 6,
   "id": "5d9979ca",
   "metadata": {},
   "outputs": [
    {
     "data": {
      "text/plain": [
       "Job Type                                      46545\n",
       "Source Location Description                   41550\n",
       "Source Queuing Start Timestamp (GMT8)         31306\n",
       "Destination Dumping Start Timestamp (GMT8)    25757\n",
       "TRUCKQUEUEATSOURCEDURATION                    25352\n",
       "Loading Efficiency                            25352\n",
       "ASSOCPAYLOADNOMINAL                           25352\n",
       "PREVIOUSSINKDESTINATION                       24828\n",
       "End Processor Name                            24803\n",
       "Destination Location Description              24789\n",
       "Destination Location Name                     24789\n",
       "Empty Slope Distance                          24754\n",
       "Empty Fall Height                             24754\n",
       "Fuel Used                                     24754\n",
       "Queuing Duration                              24754\n",
       "TMPH                                          24754\n",
       "Empty Travel Duration                         24754\n",
       "Empty Target Travel Duration                  24754\n",
       "Empty Slope Length                            24754\n",
       "Queuing at Source Duration                    24754\n",
       "Empty Rise Height                             24754\n",
       "Empty Plan Length                             24754\n",
       "Empty EFH Length                              24754\n",
       "Empty Expected Travel Duration                24754\n",
       "Full Travel Duration                          24754\n",
       "Empty EFH Distance                            24754\n",
       "Queuing at Sink Duration                      24754\n",
       "Dumping SMU Duration                          24754\n",
       "Dumping Duration                              24754\n",
       "QUEUEATSINKDURATION                           24754\n",
       "WAITFORDUMPDURATION                           24754\n",
       "WAITFORLOADDURATION                           24754\n",
       "iMine Load FCTR Truck                         24754\n",
       "Full Expected Travel Duration                 24754\n",
       "Source Loading Start Timestamp (GMT8)          4111\n",
       "Source Loading End Timestamp (GMT8)            4111\n",
       "PREVIOUSSECONDARYMACHINE                       2926\n",
       "Source Location Name                           2867\n",
       "Loading Duration                               2762\n",
       "Travelling Empty Duration                      2762\n",
       "Travelling Full Duration                       2762\n",
       "Autonomous                                     2762\n",
       "Payload (t)                                    2762\n",
       "Payload (kg)                                   2762\n",
       "Loading Count                                  2762\n",
       "CT Calendar Time                                  0\n",
       "Record Updated Timestamp (GMT8)                   0\n",
       "Down Time                                         0\n",
       "Delay Time                                        0\n",
       "WORKINGBURNRATE                                   0\n",
       "dtype: int64"
      ]
     },
     "execution_count": 6,
     "metadata": {},
     "output_type": "execute_result"
    }
   ],
   "source": [
    "#checking top 50 columns with null values\n",
    "CD.isna().sum().sort_values(ascending=False).head(50) "
   ]
  },
  {
   "cell_type": "code",
   "execution_count": 7,
   "id": "36607995",
   "metadata": {},
   "outputs": [
    {
     "data": {
      "text/plain": [
       "Job Type                                      46545\n",
       "Source Location Description                   41550\n",
       "Source Queuing Start Timestamp (GMT8)         31306\n",
       "Destination Dumping Start Timestamp (GMT8)    25757\n",
       "TRUCKQUEUEATSOURCEDURATION                    25352\n",
       "Loading Efficiency                            25352\n",
       "ASSOCPAYLOADNOMINAL                           25352\n",
       "PREVIOUSSINKDESTINATION                       24828\n",
       "End Processor Name                            24803\n",
       "Destination Location Description              24789\n",
       "Destination Location Name                     24789\n",
       "Empty Slope Distance                          24754\n",
       "Empty Fall Height                             24754\n",
       "Fuel Used                                     24754\n",
       "Queuing Duration                              24754\n",
       "TMPH                                          24754\n",
       "Empty Travel Duration                         24754\n",
       "Empty Target Travel Duration                  24754\n",
       "Empty Slope Length                            24754\n",
       "Queuing at Source Duration                    24754\n",
       "Empty Rise Height                             24754\n",
       "Empty Plan Length                             24754\n",
       "Empty EFH Length                              24754\n",
       "Empty Expected Travel Duration                24754\n",
       "Full Travel Duration                          24754\n",
       "Empty EFH Distance                            24754\n",
       "Queuing at Sink Duration                      24754\n",
       "Dumping SMU Duration                          24754\n",
       "Dumping Duration                              24754\n",
       "QUEUEATSINKDURATION                           24754\n",
       "WAITFORDUMPDURATION                           24754\n",
       "WAITFORLOADDURATION                           24754\n",
       "iMine Load FCTR Truck                         24754\n",
       "Full Expected Travel Duration                 24754\n",
       "Source Loading Start Timestamp (GMT8)          4111\n",
       "Source Loading End Timestamp (GMT8)            4111\n",
       "PREVIOUSSECONDARYMACHINE                       2926\n",
       "Source Location Name                           2867\n",
       "Loading Duration                               2762\n",
       "Travelling Empty Duration                      2762\n",
       "Travelling Full Duration                       2762\n",
       "Autonomous                                     2762\n",
       "Payload (t)                                    2762\n",
       "Payload (kg)                                   2762\n",
       "Loading Count                                  2762\n",
       "dtype: int64"
      ]
     },
     "execution_count": 7,
     "metadata": {},
     "output_type": "execute_result"
    }
   ],
   "source": [
    "#We can see last 5 are 0, hence changing to top45\n",
    "CD.isna().sum().sort_values(ascending=False).head(45)"
   ]
  },
  {
   "cell_type": "code",
   "execution_count": 8,
   "id": "996eb632",
   "metadata": {},
   "outputs": [],
   "source": [
    "null_cols = ['Cycle SMU Duration','SD_SCHEDULEDDOWNTIME','Cycle Duration','OPERATINGTIME (CAT)','Idle Duration','Queuing Duration']\n",
    "CD.fillna({col: 0 for col in null_cols}, inplace=True)"
   ]
  },
  {
   "cell_type": "code",
   "execution_count": 9,
   "id": "ad5d00a5",
   "metadata": {},
   "outputs": [],
   "source": [
    "#Replacing '1/0' by 'Yes' or 'No' Attributes\n",
    "CD[['Completed Cycle Count','iMine Availability','Estimated Fuel Used']] = CD[['Completed Cycle Count','iMine Availability','Estimated Fuel Used']].replace({0:'No', 1:'Yes'})\n",
    "CD[['Source Location is Active Flag','Source Location is Source Flag','Destination Location is Active Flag','Destination Location is Source Flag']]=CD[['Source Location is Active Flag','Source Location is Source Flag','Destination Location is Active Flag','Destination Location is Source Flag']].replace({'N':'No', 'Y':'Yes'})"
   ]
  },
  {
   "cell_type": "code",
   "execution_count": 10,
   "id": "1435fbdd",
   "metadata": {},
   "outputs": [
    {
     "name": "stdout",
     "output_type": "stream",
     "text": [
      "['Yes' 'No']\n"
     ]
    }
   ],
   "source": [
    "#Replacing '1/0' by 'Yes' or 'No' Attributes\n",
    "CD['Autonomous'] = CD[['Autonomous']].apply(lambda x: x.map({0:'No', 1:'Yes'}))\n",
    "CD['Autonomous'] = CD['Autonomous'].fillna('No')\n",
    "print(CD['Autonomous'].unique())"
   ]
  },
  {
   "cell_type": "markdown",
   "id": "656c3fc9",
   "metadata": {},
   "source": [
    "### Null values reaason"
   ]
  },
  {
   "cell_type": "markdown",
   "id": "fe85c371",
   "metadata": {},
   "source": [
    "When checked in excel, values changes as per the cycle types, hence we will create key table wrt to cycle types"
   ]
  },
  {
   "cell_type": "code",
   "execution_count": 11,
   "id": "0046c6d6",
   "metadata": {},
   "outputs": [
    {
     "data": {
      "text/html": [
       "<div>\n",
       "<style scoped>\n",
       "    .dataframe tbody tr th:only-of-type {\n",
       "        vertical-align: middle;\n",
       "    }\n",
       "\n",
       "    .dataframe tbody tr th {\n",
       "        vertical-align: top;\n",
       "    }\n",
       "\n",
       "    .dataframe thead th {\n",
       "        text-align: right;\n",
       "    }\n",
       "</style>\n",
       "<table border=\"1\" class=\"dataframe\">\n",
       "  <thead>\n",
       "    <tr style=\"text-align: right;\">\n",
       "      <th></th>\n",
       "      <th>ASSOCPAYLOADNOMINAL</th>\n",
       "      <th>AT Available Time (iMine)</th>\n",
       "      <th>Autonomous</th>\n",
       "      <th>Available SMU Time</th>\n",
       "      <th>Available Time</th>\n",
       "      <th>Completed Cycle Count</th>\n",
       "      <th>COMPLETEDCYCLEDURATION</th>\n",
       "      <th>Creation Mode</th>\n",
       "      <th>CT Calendar SMU Time</th>\n",
       "      <th>CT Calendar Time</th>\n",
       "      <th>...</th>\n",
       "      <th>Primary Machine Name</th>\n",
       "      <th>Primary Machine Category Name</th>\n",
       "      <th>Primary Machine Class Name</th>\n",
       "      <th>Secondary Machine Name</th>\n",
       "      <th>Secondary Machine Category Name</th>\n",
       "      <th>Secondary Machine Class Name</th>\n",
       "      <th>Crew OID</th>\n",
       "      <th>Job Code Description</th>\n",
       "      <th>Job Code Name</th>\n",
       "      <th>Job Type</th>\n",
       "    </tr>\n",
       "  </thead>\n",
       "  <tbody>\n",
       "    <tr>\n",
       "      <th>9421</th>\n",
       "      <td>NaN</td>\n",
       "      <td>10292</td>\n",
       "      <td>No</td>\n",
       "      <td>2710</td>\n",
       "      <td>10292</td>\n",
       "      <td>Yes</td>\n",
       "      <td>10292</td>\n",
       "      <td>0</td>\n",
       "      <td>2710</td>\n",
       "      <td>10292</td>\n",
       "      <td>...</td>\n",
       "      <td>DZ8027</td>\n",
       "      <td>Dozer Unit</td>\n",
       "      <td>CAT D10T</td>\n",
       "      <td>unknown</td>\n",
       "      <td>unknown</td>\n",
       "      <td>unknown</td>\n",
       "      <td>10722579274</td>\n",
       "      <td>ZZ92</td>\n",
       "      <td>ZZ92-Floor Clean up</td>\n",
       "      <td>NaN</td>\n",
       "    </tr>\n",
       "    <tr>\n",
       "      <th>9422</th>\n",
       "      <td>NaN</td>\n",
       "      <td>4571</td>\n",
       "      <td>No</td>\n",
       "      <td>0</td>\n",
       "      <td>4571</td>\n",
       "      <td>No</td>\n",
       "      <td>0</td>\n",
       "      <td>3</td>\n",
       "      <td>82</td>\n",
       "      <td>4571</td>\n",
       "      <td>...</td>\n",
       "      <td>DZ8038</td>\n",
       "      <td>Dozer Unit</td>\n",
       "      <td>CAT D10T</td>\n",
       "      <td>unknown</td>\n",
       "      <td>unknown</td>\n",
       "      <td>unknown</td>\n",
       "      <td>10722579274</td>\n",
       "      <td>PIT WORK</td>\n",
       "      <td>PIT WORK</td>\n",
       "      <td>NaN</td>\n",
       "    </tr>\n",
       "    <tr>\n",
       "      <th>9423</th>\n",
       "      <td>NaN</td>\n",
       "      <td>8903</td>\n",
       "      <td>No</td>\n",
       "      <td>8903</td>\n",
       "      <td>8903</td>\n",
       "      <td>Yes</td>\n",
       "      <td>8903</td>\n",
       "      <td>0</td>\n",
       "      <td>9634</td>\n",
       "      <td>8903</td>\n",
       "      <td>...</td>\n",
       "      <td>DZ8038</td>\n",
       "      <td>Dozer Unit</td>\n",
       "      <td>CAT D10T</td>\n",
       "      <td>unknown</td>\n",
       "      <td>unknown</td>\n",
       "      <td>unknown</td>\n",
       "      <td>10722579274</td>\n",
       "      <td>PIT WORK</td>\n",
       "      <td>PIT WORK</td>\n",
       "      <td>NaN</td>\n",
       "    </tr>\n",
       "    <tr>\n",
       "      <th>9424</th>\n",
       "      <td>NaN</td>\n",
       "      <td>14442</td>\n",
       "      <td>No</td>\n",
       "      <td>0</td>\n",
       "      <td>14442</td>\n",
       "      <td>Yes</td>\n",
       "      <td>14442</td>\n",
       "      <td>0</td>\n",
       "      <td>0</td>\n",
       "      <td>14442</td>\n",
       "      <td>...</td>\n",
       "      <td>DZ8025</td>\n",
       "      <td>Dozer Unit</td>\n",
       "      <td>CAT D10T</td>\n",
       "      <td>unknown</td>\n",
       "      <td>unknown</td>\n",
       "      <td>unknown</td>\n",
       "      <td>10722579274</td>\n",
       "      <td>PIT WORK</td>\n",
       "      <td>PIT WORK</td>\n",
       "      <td>NaN</td>\n",
       "    </tr>\n",
       "    <tr>\n",
       "      <th>9425</th>\n",
       "      <td>NaN</td>\n",
       "      <td>14538</td>\n",
       "      <td>No</td>\n",
       "      <td>14538</td>\n",
       "      <td>14538</td>\n",
       "      <td>Yes</td>\n",
       "      <td>14538</td>\n",
       "      <td>0</td>\n",
       "      <td>14980</td>\n",
       "      <td>14538</td>\n",
       "      <td>...</td>\n",
       "      <td>GR6014</td>\n",
       "      <td>Grader Unit</td>\n",
       "      <td>CAT 16M</td>\n",
       "      <td>unknown</td>\n",
       "      <td>unknown</td>\n",
       "      <td>unknown</td>\n",
       "      <td>10722579274</td>\n",
       "      <td>AI88-JBH1-540-PC-26464</td>\n",
       "      <td>AI88 - H1C1 0540 6314-patternprep</td>\n",
       "      <td>PC</td>\n",
       "    </tr>\n",
       "  </tbody>\n",
       "</table>\n",
       "<p>5 rows × 93 columns</p>\n",
       "</div>"
      ],
      "text/plain": [
       "      ASSOCPAYLOADNOMINAL  AT Available Time (iMine) Autonomous  \\\n",
       "9421                  NaN                      10292         No   \n",
       "9422                  NaN                       4571         No   \n",
       "9423                  NaN                       8903         No   \n",
       "9424                  NaN                      14442         No   \n",
       "9425                  NaN                      14538         No   \n",
       "\n",
       "      Available SMU Time  Available Time Completed Cycle Count  \\\n",
       "9421                2710           10292                   Yes   \n",
       "9422                   0            4571                    No   \n",
       "9423                8903            8903                   Yes   \n",
       "9424                   0           14442                   Yes   \n",
       "9425               14538           14538                   Yes   \n",
       "\n",
       "      COMPLETEDCYCLEDURATION  Creation Mode  CT Calendar SMU Time  \\\n",
       "9421                   10292              0                  2710   \n",
       "9422                       0              3                    82   \n",
       "9423                    8903              0                  9634   \n",
       "9424                   14442              0                     0   \n",
       "9425                   14538              0                 14980   \n",
       "\n",
       "      CT Calendar Time  ...  Primary Machine Name  \\\n",
       "9421             10292  ...                DZ8027   \n",
       "9422              4571  ...                DZ8038   \n",
       "9423              8903  ...                DZ8038   \n",
       "9424             14442  ...                DZ8025   \n",
       "9425             14538  ...                GR6014   \n",
       "\n",
       "      Primary Machine Category Name Primary Machine Class Name  \\\n",
       "9421                     Dozer Unit                   CAT D10T   \n",
       "9422                     Dozer Unit                   CAT D10T   \n",
       "9423                     Dozer Unit                   CAT D10T   \n",
       "9424                     Dozer Unit                   CAT D10T   \n",
       "9425                    Grader Unit                    CAT 16M   \n",
       "\n",
       "      Secondary Machine Name  Secondary Machine Category Name  \\\n",
       "9421                 unknown                          unknown   \n",
       "9422                 unknown                          unknown   \n",
       "9423                 unknown                          unknown   \n",
       "9424                 unknown                          unknown   \n",
       "9425                 unknown                          unknown   \n",
       "\n",
       "      Secondary Machine Class Name     Crew OID    Job Code Description  \\\n",
       "9421                       unknown  10722579274                    ZZ92   \n",
       "9422                       unknown  10722579274                PIT WORK   \n",
       "9423                       unknown  10722579274                PIT WORK   \n",
       "9424                       unknown  10722579274                PIT WORK   \n",
       "9425                       unknown  10722579274  AI88-JBH1-540-PC-26464   \n",
       "\n",
       "                          Job Code Name  Job Type  \n",
       "9421                ZZ92-Floor Clean up       NaN  \n",
       "9422                           PIT WORK       NaN  \n",
       "9423                           PIT WORK       NaN  \n",
       "9424                           PIT WORK       NaN  \n",
       "9425  AI88 - H1C1 0540 6314-patternprep        PC  \n",
       "\n",
       "[5 rows x 93 columns]"
      ]
     },
     "execution_count": 11,
     "metadata": {},
     "output_type": "execute_result"
    }
   ],
   "source": [
    "CDAux = CD[CD['Cycle Type'] == 'AuxMobileCycle']\n",
    "CDAux.head()"
   ]
  },
  {
   "cell_type": "code",
   "execution_count": 12,
   "id": "49c6ceab",
   "metadata": {},
   "outputs": [
    {
     "data": {
      "text/plain": [
       "ASSOCPAYLOADNOMINAL                           2762\n",
       "End Processor Name                            2762\n",
       "Full Expected Travel Duration                 2762\n",
       "Full Travel Duration                          2762\n",
       "iMine Load FCTR Truck                         2762\n",
       "Loading Count                                 2762\n",
       "Loading Duration                              2762\n",
       "Loading Efficiency                            2762\n",
       "Source Loading End Timestamp (GMT8)           2762\n",
       "Payload (kg)                                  2762\n",
       "Payload (t)                                   2762\n",
       "PREVIOUSSECONDARYMACHINE                      2762\n",
       "PREVIOUSSINKDESTINATION                       2762\n",
       "QUEUEATSINKDURATION                           2762\n",
       "Queuing at Sink Duration                      2762\n",
       "Queuing at Source Duration                    2762\n",
       "Source Queuing Start Timestamp (GMT8)         2762\n",
       "TMPH                                          2762\n",
       "Travelling Empty Duration                     2762\n",
       "Travelling Full Duration                      2762\n",
       "TRUCKQUEUEATSOURCEDURATION                    2762\n",
       "WAITFORDUMPDURATION                           2762\n",
       "WAITFORLOADDURATION                           2762\n",
       "Source Location Name                          2762\n",
       "Source Location Description                   2762\n",
       "Destination Location Name                     2762\n",
       "Destination Location Description              2762\n",
       "Fuel Used                                     2762\n",
       "Source Loading Start Timestamp (GMT8)         2762\n",
       "Empty Travel Duration                         2762\n",
       "Empty Plan Length                             2762\n",
       "Dumping Duration                              2762\n",
       "Empty Target Travel Duration                  2762\n",
       "Empty Slope Length                            2762\n",
       "Empty Slope Distance                          2762\n",
       "Dumping SMU Duration                          2762\n",
       "Destination Dumping Start Timestamp (GMT8)    2762\n",
       "Empty EFH Distance                            2762\n",
       "Empty EFH Length                              2762\n",
       "Empty Rise Height                             2762\n",
       "Empty Expected Travel Duration                2762\n",
       "Empty Fall Height                             2762\n",
       "Job Type                                      1963\n",
       "iMine Utilisation                                0\n",
       "Autonomous                                       0\n",
       "dtype: int64"
      ]
     },
     "execution_count": 12,
     "metadata": {},
     "output_type": "execute_result"
    }
   ],
   "source": [
    "CDAux.isna().sum().sort_values(ascending=False).head(45)"
   ]
  },
  {
   "cell_type": "code",
   "execution_count": 13,
   "id": "dd323225",
   "metadata": {},
   "outputs": [
    {
     "data": {
      "text/plain": [
       "(2762, 93)"
      ]
     },
     "execution_count": 13,
     "metadata": {},
     "output_type": "execute_result"
    }
   ],
   "source": [
    "CDAux.shape"
   ]
  },
  {
   "cell_type": "code",
   "execution_count": 14,
   "id": "182c4384",
   "metadata": {},
   "outputs": [],
   "source": [
    "CDAux.columns[CDAux.isnull().sum() > 1300]\n",
    "CDAux.drop(CDAux.columns[CDAux.isnull().sum() > 1300], axis=1, inplace=True)"
   ]
  },
  {
   "cell_type": "code",
   "execution_count": 15,
   "id": "d6942a5d",
   "metadata": {},
   "outputs": [
    {
     "data": {
      "text/plain": [
       "(2762, 50)"
      ]
     },
     "execution_count": 15,
     "metadata": {},
     "output_type": "execute_result"
    }
   ],
   "source": [
    "CDAux.shape"
   ]
  },
  {
   "cell_type": "code",
   "execution_count": 16,
   "id": "283547b6",
   "metadata": {},
   "outputs": [
    {
     "data": {
      "text/plain": [
       "Job Type                                      21992\n",
       "Dumping Duration                              21992\n",
       "End Processor Name                            21992\n",
       "Empty Travel Duration                         21992\n",
       "Empty Target Travel Duration                  21992\n",
       "Empty Slope Length                            21992\n",
       "Empty Slope Distance                          21992\n",
       "Empty Rise Height                             21992\n",
       "Empty Plan Length                             21992\n",
       "Empty Fall Height                             21992\n",
       "Empty Expected Travel Duration                21992\n",
       "Empty EFH Length                              21992\n",
       "Empty EFH Distance                            21992\n",
       "Destination Dumping Start Timestamp (GMT8)    21992\n",
       "Dumping SMU Duration                          21992\n",
       "Full Travel Duration                          21992\n",
       "Fuel Used                                     21992\n",
       "iMine Load FCTR Truck                         21992\n",
       "PREVIOUSSINKDESTINATION                       21992\n",
       "QUEUEATSINKDURATION                           21992\n",
       "Queuing at Sink Duration                      21992\n",
       "Queuing at Source Duration                    21992\n",
       "Source Queuing Start Timestamp (GMT8)         21992\n",
       "TMPH                                          21992\n",
       "WAITFORDUMPDURATION                           21992\n",
       "WAITFORLOADDURATION                           21992\n",
       "Destination Location Name                     21992\n",
       "Destination Location Description              21992\n",
       "Full Expected Travel Duration                 21992\n",
       "Source Location Description                   19095\n",
       "Source Loading End Timestamp (GMT8)             270\n",
       "Source Loading Start Timestamp (GMT8)           270\n",
       "PREVIOUSSECONDARYMACHINE                        106\n",
       "Source Location Name                             78\n",
       "Estimated Fuel Used                               0\n",
       "dtype: int64"
      ]
     },
     "execution_count": 16,
     "metadata": {},
     "output_type": "execute_result"
    }
   ],
   "source": [
    "CDLoader = CD[CD['Cycle Type'] == 'LoaderCycle']\n",
    "CDLoader.isna().sum().sort_values(ascending=False).head(35)"
   ]
  },
  {
   "cell_type": "code",
   "execution_count": 17,
   "id": "e9d5cf9b",
   "metadata": {},
   "outputs": [
    {
     "data": {
      "text/plain": [
       "(21992, 93)"
      ]
     },
     "execution_count": 17,
     "metadata": {},
     "output_type": "execute_result"
    }
   ],
   "source": [
    "CDLoader.shape"
   ]
  },
  {
   "cell_type": "code",
   "execution_count": 18,
   "id": "914c8d8b",
   "metadata": {},
   "outputs": [
    {
     "data": {
      "text/plain": [
       "(21992, 63)"
      ]
     },
     "execution_count": 18,
     "metadata": {},
     "output_type": "execute_result"
    }
   ],
   "source": [
    "CDLoader.drop(CDLoader.columns[CDLoader.isnull().sum() > 15418], axis=1, inplace=True)\n",
    "CDLoader.shape"
   ]
  },
  {
   "cell_type": "code",
   "execution_count": 19,
   "id": "d41a221b",
   "metadata": {},
   "outputs": [
    {
     "data": {
      "text/plain": [
       "ASSOCPAYLOADNOMINAL                           22590\n",
       "Loading Efficiency                            22590\n",
       "TRUCKQUEUEATSOURCEDURATION                    22590\n",
       "Job Type                                      22590\n",
       "Source Location Description                   19693\n",
       "Source Queuing Start Timestamp (GMT8)          6552\n",
       "Source Loading Start Timestamp (GMT8)          1079\n",
       "Source Loading End Timestamp (GMT8)            1079\n",
       "Destination Dumping Start Timestamp (GMT8)     1003\n",
       "PREVIOUSSINKDESTINATION                          74\n",
       "dtype: int64"
      ]
     },
     "execution_count": 19,
     "metadata": {},
     "output_type": "execute_result"
    }
   ],
   "source": [
    "CDTruck = CD[CD['Cycle Type'] == 'TruckCycle']\n",
    "CDTruck.isna().sum().sort_values(ascending=False).head(10)                                                "
   ]
  },
  {
   "cell_type": "code",
   "execution_count": 20,
   "id": "bad88089",
   "metadata": {},
   "outputs": [
    {
     "data": {
      "text/plain": [
       "(22590, 93)"
      ]
     },
     "execution_count": 20,
     "metadata": {},
     "output_type": "execute_result"
    }
   ],
   "source": [
    "CDTruck.shape"
   ]
  },
  {
   "cell_type": "code",
   "execution_count": 21,
   "id": "1bf9384b",
   "metadata": {},
   "outputs": [
    {
     "data": {
      "text/plain": [
       "(22590, 89)"
      ]
     },
     "execution_count": 21,
     "metadata": {},
     "output_type": "execute_result"
    }
   ],
   "source": [
    "CDTruck.drop(CDTruck.columns[CDTruck.isnull().sum() > 19693], axis=1, inplace=True)\n",
    "CDTruck.shape"
   ]
  },
  {
   "cell_type": "markdown",
   "id": "4c6b2043",
   "metadata": {},
   "source": [
    "We can see Job Type, Source Location Description are common null columns in all cycle types, hence we will drop those. Other columns are null because of other cycle types. Main Cycle data comes from Truk Cycle having less null columns."
   ]
  },
  {
   "cell_type": "markdown",
   "id": "868f2e58",
   "metadata": {},
   "source": [
    "#### Creating Movement Table for Truck"
   ]
  },
  {
   "cell_type": "code",
   "execution_count": 22,
   "id": "cb889af5",
   "metadata": {},
   "outputs": [
    {
     "data": {
      "text/plain": [
       "(22590, 9)"
      ]
     },
     "execution_count": 22,
     "metadata": {},
     "output_type": "execute_result"
    }
   ],
   "source": [
    "Truck_Movement = CDTruck[['Primary Machine Name','Source Location Name','Destination Location Name','Payload (t)','Cycle Start Timestamp (GMT8)',\n",
    "                         'Cycle End Timestamp (GMT8)','Completed Cycle Count','COMPLETEDCYCLEDURATION','TMPH']]\n",
    "Truck_Movement.shape"
   ]
  },
  {
   "cell_type": "code",
   "execution_count": 23,
   "id": "53895c0b",
   "metadata": {},
   "outputs": [],
   "source": [
    "Truck_Movement[['Cycle End Timestamp in MM:SS','zero1']] = Truck_Movement['Cycle End Timestamp (GMT8)'].str.split('.',expand=True)\n",
    "\n",
    "Truck_Movement[['Cycle Start Timestamp in MM:SS','zero2']] = Truck_Movement['Cycle Start Timestamp (GMT8)'].str.split('.',expand=True)"
   ]
  },
  {
   "cell_type": "code",
   "execution_count": 24,
   "id": "ca35fa73",
   "metadata": {},
   "outputs": [],
   "source": [
    "Truck_Movement.drop(columns=['Cycle End Timestamp (GMT8)', 'Cycle Start Timestamp (GMT8)', 'zero1', 'zero2'], inplace=True)"
   ]
  },
  {
   "cell_type": "code",
   "execution_count": 25,
   "id": "0b774cb8",
   "metadata": {},
   "outputs": [
    {
     "data": {
      "text/html": [
       "<div>\n",
       "<style scoped>\n",
       "    .dataframe tbody tr th:only-of-type {\n",
       "        vertical-align: middle;\n",
       "    }\n",
       "\n",
       "    .dataframe tbody tr th {\n",
       "        vertical-align: top;\n",
       "    }\n",
       "\n",
       "    .dataframe thead th {\n",
       "        text-align: right;\n",
       "    }\n",
       "</style>\n",
       "<table border=\"1\" class=\"dataframe\">\n",
       "  <thead>\n",
       "    <tr style=\"text-align: right;\">\n",
       "      <th></th>\n",
       "      <th>Movement_Id</th>\n",
       "      <th>Primary Machine Name</th>\n",
       "      <th>Source Location Name</th>\n",
       "      <th>Destination Location Name</th>\n",
       "      <th>Payload (t)</th>\n",
       "      <th>Completed Cycle Count</th>\n",
       "      <th>COMPLETEDCYCLEDURATION</th>\n",
       "      <th>TMPH</th>\n",
       "      <th>Cycle End Timestamp in MM:SS</th>\n",
       "      <th>Cycle Start Timestamp in MM:SS</th>\n",
       "    </tr>\n",
       "  </thead>\n",
       "  <tbody>\n",
       "    <tr>\n",
       "      <th>0</th>\n",
       "      <td>1.0</td>\n",
       "      <td>DT5209</td>\n",
       "      <td>DS_OB18_B_PAD</td>\n",
       "      <td>DS_C1</td>\n",
       "      <td>260.3</td>\n",
       "      <td>Yes</td>\n",
       "      <td>737</td>\n",
       "      <td>43525.938</td>\n",
       "      <td>2020-07-20 02:15:42</td>\n",
       "      <td>2020-07-20 02:03:25</td>\n",
       "    </tr>\n",
       "    <tr>\n",
       "      <th>1</th>\n",
       "      <td>2.0</td>\n",
       "      <td>DT5209</td>\n",
       "      <td>DS_OB18_B_PAD</td>\n",
       "      <td>DS_C1</td>\n",
       "      <td>224.4</td>\n",
       "      <td>Yes</td>\n",
       "      <td>527</td>\n",
       "      <td>19591.871</td>\n",
       "      <td>2020-07-20 04:58:40</td>\n",
       "      <td>2020-07-20 04:49:53</td>\n",
       "    </tr>\n",
       "    <tr>\n",
       "      <th>2</th>\n",
       "      <td>3.0</td>\n",
       "      <td>DT5283</td>\n",
       "      <td>DS_OB18_B_PAD</td>\n",
       "      <td>DS_C1</td>\n",
       "      <td>232.8</td>\n",
       "      <td>Yes</td>\n",
       "      <td>496</td>\n",
       "      <td>21472.049</td>\n",
       "      <td>2020-07-20 05:28:17</td>\n",
       "      <td>2020-07-20 05:20:01</td>\n",
       "    </tr>\n",
       "    <tr>\n",
       "      <th>3</th>\n",
       "      <td>4.0</td>\n",
       "      <td>DT5283</td>\n",
       "      <td>DS_OB18_B_PAD</td>\n",
       "      <td>DS_C1</td>\n",
       "      <td>238.1</td>\n",
       "      <td>Yes</td>\n",
       "      <td>714</td>\n",
       "      <td>18281.908</td>\n",
       "      <td>2020-07-20 03:21:49</td>\n",
       "      <td>2020-07-20 03:09:55</td>\n",
       "    </tr>\n",
       "    <tr>\n",
       "      <th>4</th>\n",
       "      <td>5.0</td>\n",
       "      <td>DT5283</td>\n",
       "      <td>DS_OB18_B_PAD</td>\n",
       "      <td>DS_C1</td>\n",
       "      <td>228.8</td>\n",
       "      <td>Yes</td>\n",
       "      <td>512</td>\n",
       "      <td>20165.852</td>\n",
       "      <td>2020-07-20 05:02:32</td>\n",
       "      <td>2020-07-20 04:54:00</td>\n",
       "    </tr>\n",
       "  </tbody>\n",
       "</table>\n",
       "</div>"
      ],
      "text/plain": [
       "   Movement_Id Primary Machine Name Source Location Name  \\\n",
       "0          1.0               DT5209        DS_OB18_B_PAD   \n",
       "1          2.0               DT5209        DS_OB18_B_PAD   \n",
       "2          3.0               DT5283        DS_OB18_B_PAD   \n",
       "3          4.0               DT5283        DS_OB18_B_PAD   \n",
       "4          5.0               DT5283        DS_OB18_B_PAD   \n",
       "\n",
       "  Destination Location Name  Payload (t) Completed Cycle Count  \\\n",
       "0                     DS_C1        260.3                   Yes   \n",
       "1                     DS_C1        224.4                   Yes   \n",
       "2                     DS_C1        232.8                   Yes   \n",
       "3                     DS_C1        238.1                   Yes   \n",
       "4                     DS_C1        228.8                   Yes   \n",
       "\n",
       "   COMPLETEDCYCLEDURATION       TMPH Cycle End Timestamp in MM:SS  \\\n",
       "0                     737  43525.938          2020-07-20 02:15:42   \n",
       "1                     527  19591.871          2020-07-20 04:58:40   \n",
       "2                     496  21472.049          2020-07-20 05:28:17   \n",
       "3                     714  18281.908          2020-07-20 03:21:49   \n",
       "4                     512  20165.852          2020-07-20 05:02:32   \n",
       "\n",
       "  Cycle Start Timestamp in MM:SS  \n",
       "0            2020-07-20 02:03:25  \n",
       "1            2020-07-20 04:49:53  \n",
       "2            2020-07-20 05:20:01  \n",
       "3            2020-07-20 03:09:55  \n",
       "4            2020-07-20 04:54:00  "
      ]
     },
     "execution_count": 25,
     "metadata": {},
     "output_type": "execute_result"
    }
   ],
   "source": [
    "#Inserting Movement ID Column\n",
    "Truck_Movement.insert(0,\"Movement_Id\",pd.Series(np.arange(1,22591)))\n",
    "Truck_Movement.head()"
   ]
  },
  {
   "cell_type": "markdown",
   "id": "c71b3da9",
   "metadata": {},
   "source": [
    "### Importing DataSet 2 - Delay Data"
   ]
  },
  {
   "cell_type": "code",
   "execution_count": 26,
   "id": "a22b23b4",
   "metadata": {},
   "outputs": [
    {
     "data": {
      "text/html": [
       "<div>\n",
       "<style scoped>\n",
       "    .dataframe tbody tr th:only-of-type {\n",
       "        vertical-align: middle;\n",
       "    }\n",
       "\n",
       "    .dataframe tbody tr th {\n",
       "        vertical-align: top;\n",
       "    }\n",
       "\n",
       "    .dataframe thead th {\n",
       "        text-align: right;\n",
       "    }\n",
       "</style>\n",
       "<table border=\"1\" class=\"dataframe\">\n",
       "  <thead>\n",
       "    <tr style=\"text-align: right;\">\n",
       "      <th></th>\n",
       "      <th>Delay OID</th>\n",
       "      <th>Description</th>\n",
       "      <th>ECF Class ID</th>\n",
       "      <th>Acknowledge Flag</th>\n",
       "      <th>Acknowledged Flag</th>\n",
       "      <th>Confirmed Flag</th>\n",
       "      <th>Engine Stopped Flag</th>\n",
       "      <th>Field Notification Required Flag</th>\n",
       "      <th>Office Confirm Flag</th>\n",
       "      <th>Production Reporting Only Flag</th>\n",
       "      <th>...</th>\n",
       "      <th>Target Machine is Active Flag</th>\n",
       "      <th>Target Machine Class Name</th>\n",
       "      <th>Target Machine Class Description</th>\n",
       "      <th>Target Machine Class is Active Flag</th>\n",
       "      <th>Target Machine Class Category Name</th>\n",
       "      <th>Delay Reported By Person Name</th>\n",
       "      <th>Delay Reported By User Name</th>\n",
       "      <th>Delay Status Description</th>\n",
       "      <th>Delay Start Timestamp (GMT8)</th>\n",
       "      <th>Delay Finish Timestamp (GMT8)</th>\n",
       "    </tr>\n",
       "  </thead>\n",
       "  <tbody>\n",
       "    <tr>\n",
       "      <th>0</th>\n",
       "      <td>10721642969</td>\n",
       "      <td>MACHINE GEN Started a delay: 2110_Operator_Hot...</td>\n",
       "      <td>XAEntity.Delay</td>\n",
       "      <td>N</td>\n",
       "      <td>N</td>\n",
       "      <td>N</td>\n",
       "      <td>N</td>\n",
       "      <td>N</td>\n",
       "      <td>N</td>\n",
       "      <td>Y</td>\n",
       "      <td>...</td>\n",
       "      <td>Y</td>\n",
       "      <td>994H</td>\n",
       "      <td>Wheel Loader</td>\n",
       "      <td>Y</td>\n",
       "      <td>Loader Classes</td>\n",
       "      <td>Daniel Nye</td>\n",
       "      <td>NaN</td>\n",
       "      <td>Historical</td>\n",
       "      <td>2020-07-26 02:04:59</td>\n",
       "      <td>2020-07-26 02:08:41</td>\n",
       "    </tr>\n",
       "    <tr>\n",
       "      <th>1</th>\n",
       "      <td>10721643044</td>\n",
       "      <td>6026</td>\n",
       "      <td>XAEntity.Delay</td>\n",
       "      <td>N</td>\n",
       "      <td>N</td>\n",
       "      <td>N</td>\n",
       "      <td>N</td>\n",
       "      <td>Y</td>\n",
       "      <td>N</td>\n",
       "      <td>Y</td>\n",
       "      <td>...</td>\n",
       "      <td>Y</td>\n",
       "      <td>CAT 793F CMD</td>\n",
       "      <td>Caterpillar 793 F Autonomous Mining Truck</td>\n",
       "      <td>Y</td>\n",
       "      <td>Truck Classes</td>\n",
       "      <td>NaN</td>\n",
       "      <td>NaN</td>\n",
       "      <td>Historical</td>\n",
       "      <td>2020-07-26 01:59:06</td>\n",
       "      <td>2020-07-26 02:05:54</td>\n",
       "    </tr>\n",
       "    <tr>\n",
       "      <th>2</th>\n",
       "      <td>10721643462</td>\n",
       "      <td>- [STOP_MACHINE : [PRIMARY_POWERTRAIN]]</td>\n",
       "      <td>XAEntity.Delay</td>\n",
       "      <td>N</td>\n",
       "      <td>N</td>\n",
       "      <td>N</td>\n",
       "      <td>N</td>\n",
       "      <td>N</td>\n",
       "      <td>N</td>\n",
       "      <td>Y</td>\n",
       "      <td>...</td>\n",
       "      <td>Y</td>\n",
       "      <td>CAT 793F CMD</td>\n",
       "      <td>Caterpillar 793 F Autonomous Mining Truck</td>\n",
       "      <td>Y</td>\n",
       "      <td>Truck Classes</td>\n",
       "      <td>NaN</td>\n",
       "      <td>NaN</td>\n",
       "      <td>Historical</td>\n",
       "      <td>2020-07-26 02:06:13</td>\n",
       "      <td>2020-07-26 02:06:24</td>\n",
       "    </tr>\n",
       "    <tr>\n",
       "      <th>3</th>\n",
       "      <td>10721643635</td>\n",
       "      <td>- [STOP_MACHINE : [PRIMARY_POWERTRAIN]] acces...</td>\n",
       "      <td>XAEntity.Delay</td>\n",
       "      <td>N</td>\n",
       "      <td>N</td>\n",
       "      <td>N</td>\n",
       "      <td>N</td>\n",
       "      <td>Y</td>\n",
       "      <td>N</td>\n",
       "      <td>Y</td>\n",
       "      <td>...</td>\n",
       "      <td>Y</td>\n",
       "      <td>CAT 793F CMD</td>\n",
       "      <td>Caterpillar 793 F Autonomous Mining Truck</td>\n",
       "      <td>Y</td>\n",
       "      <td>Truck Classes</td>\n",
       "      <td>NaN</td>\n",
       "      <td>NaN</td>\n",
       "      <td>Historical</td>\n",
       "      <td>2020-07-26 02:06:25</td>\n",
       "      <td>2020-07-26 02:23:48</td>\n",
       "    </tr>\n",
       "    <tr>\n",
       "      <th>4</th>\n",
       "      <td>10721645207</td>\n",
       "      <td>5271</td>\n",
       "      <td>XAEntity.Delay</td>\n",
       "      <td>N</td>\n",
       "      <td>N</td>\n",
       "      <td>N</td>\n",
       "      <td>N</td>\n",
       "      <td>Y</td>\n",
       "      <td>N</td>\n",
       "      <td>N</td>\n",
       "      <td>...</td>\n",
       "      <td>Y</td>\n",
       "      <td>CAT 793F CMD</td>\n",
       "      <td>Caterpillar 793 F Autonomous Mining Truck</td>\n",
       "      <td>Y</td>\n",
       "      <td>Truck Classes</td>\n",
       "      <td>NaN</td>\n",
       "      <td>Casey Ruck</td>\n",
       "      <td>Historical</td>\n",
       "      <td>2020-07-26 02:09:44</td>\n",
       "      <td>2020-07-26 02:15:00</td>\n",
       "    </tr>\n",
       "  </tbody>\n",
       "</table>\n",
       "<p>5 rows × 30 columns</p>\n",
       "</div>"
      ],
      "text/plain": [
       "     Delay OID                                        Description  \\\n",
       "0  10721642969  MACHINE GEN Started a delay: 2110_Operator_Hot...   \n",
       "1  10721643044                                               6026   \n",
       "2  10721643462            - [STOP_MACHINE : [PRIMARY_POWERTRAIN]]   \n",
       "3  10721643635   - [STOP_MACHINE : [PRIMARY_POWERTRAIN]] acces...   \n",
       "4  10721645207                                               5271   \n",
       "\n",
       "     ECF Class ID Acknowledge Flag Acknowledged Flag Confirmed Flag  \\\n",
       "0  XAEntity.Delay                N                 N              N   \n",
       "1  XAEntity.Delay                N                 N              N   \n",
       "2  XAEntity.Delay                N                 N              N   \n",
       "3  XAEntity.Delay                N                 N              N   \n",
       "4  XAEntity.Delay                N                 N              N   \n",
       "\n",
       "  Engine Stopped Flag Field Notification Required Flag Office Confirm Flag  \\\n",
       "0                   N                                N                   N   \n",
       "1                   N                                Y                   N   \n",
       "2                   N                                N                   N   \n",
       "3                   N                                Y                   N   \n",
       "4                   N                                Y                   N   \n",
       "\n",
       "  Production Reporting Only Flag  ...  Target Machine is Active Flag  \\\n",
       "0                              Y  ...                              Y   \n",
       "1                              Y  ...                              Y   \n",
       "2                              Y  ...                              Y   \n",
       "3                              Y  ...                              Y   \n",
       "4                              N  ...                              Y   \n",
       "\n",
       "   Target Machine Class Name           Target Machine Class Description  \\\n",
       "0                       994H                               Wheel Loader   \n",
       "1               CAT 793F CMD  Caterpillar 793 F Autonomous Mining Truck   \n",
       "2               CAT 793F CMD  Caterpillar 793 F Autonomous Mining Truck   \n",
       "3               CAT 793F CMD  Caterpillar 793 F Autonomous Mining Truck   \n",
       "4               CAT 793F CMD  Caterpillar 793 F Autonomous Mining Truck   \n",
       "\n",
       "   Target Machine Class is Active Flag Target Machine Class Category Name  \\\n",
       "0                                    Y                     Loader Classes   \n",
       "1                                    Y                      Truck Classes   \n",
       "2                                    Y                      Truck Classes   \n",
       "3                                    Y                      Truck Classes   \n",
       "4                                    Y                      Truck Classes   \n",
       "\n",
       "  Delay Reported By Person Name Delay Reported By User Name  \\\n",
       "0                    Daniel Nye                         NaN   \n",
       "1                           NaN                         NaN   \n",
       "2                           NaN                         NaN   \n",
       "3                           NaN                         NaN   \n",
       "4                           NaN                  Casey Ruck   \n",
       "\n",
       "  Delay Status Description Delay Start Timestamp (GMT8)  \\\n",
       "0               Historical          2020-07-26 02:04:59   \n",
       "1               Historical          2020-07-26 01:59:06   \n",
       "2               Historical          2020-07-26 02:06:13   \n",
       "3               Historical          2020-07-26 02:06:25   \n",
       "4               Historical          2020-07-26 02:09:44   \n",
       "\n",
       "  Delay Finish Timestamp (GMT8)  \n",
       "0           2020-07-26 02:08:41  \n",
       "1           2020-07-26 02:05:54  \n",
       "2           2020-07-26 02:06:24  \n",
       "3           2020-07-26 02:23:48  \n",
       "4           2020-07-26 02:15:00  \n",
       "\n",
       "[5 rows x 30 columns]"
      ]
     },
     "execution_count": 26,
     "metadata": {},
     "output_type": "execute_result"
    }
   ],
   "source": [
    "#importing File\n",
    "DD = pd.read_csv(r'E:\\DATA SCIENCE LAST\\CAPSTONE\\Inputs\\DelayData.csv')\n",
    "DD.head()"
   ]
  },
  {
   "cell_type": "code",
   "execution_count": 27,
   "id": "b2b3bfb1",
   "metadata": {},
   "outputs": [
    {
     "name": "stdout",
     "output_type": "stream",
     "text": [
      "<class 'pandas.core.frame.DataFrame'>\n",
      "RangeIndex: 8782 entries, 0 to 8781\n",
      "Data columns (total 30 columns):\n",
      " #   Column                               Non-Null Count  Dtype  \n",
      "---  ------                               --------------  -----  \n",
      " 0   Delay OID                            8782 non-null   int64  \n",
      " 1   Description                          6701 non-null   object \n",
      " 2   ECF Class ID                         8782 non-null   object \n",
      " 3   Acknowledge Flag                     8782 non-null   object \n",
      " 4   Acknowledged Flag                    8782 non-null   object \n",
      " 5   Confirmed Flag                       8782 non-null   object \n",
      " 6   Engine Stopped Flag                  8782 non-null   object \n",
      " 7   Field Notification Required Flag     8782 non-null   object \n",
      " 8   Office Confirm Flag                  8782 non-null   object \n",
      " 9   Production Reporting Only Flag       8782 non-null   object \n",
      " 10  Frequency Type                       8782 non-null   int64  \n",
      " 11  Shift Type                           0 non-null      float64\n",
      " 12  Target Location                      0 non-null      float64\n",
      " 13  Target Road                          0 non-null      float64\n",
      " 14  Workorder Ref                        258 non-null    object \n",
      " 15  Delay Class Name                     8782 non-null   object \n",
      " 16  Delay Class Description              5499 non-null   object \n",
      " 17  Delay Class is Active Flag           8782 non-null   object \n",
      " 18  Delay Class Category Name            8782 non-null   object \n",
      " 19  Target Machine Name                  8782 non-null   object \n",
      " 20  Target Machine is Active Flag        8782 non-null   object \n",
      " 21  Target Machine Class Name            8782 non-null   object \n",
      " 22  Target Machine Class Description     8782 non-null   object \n",
      " 23  Target Machine Class is Active Flag  8782 non-null   object \n",
      " 24  Target Machine Class Category Name   8782 non-null   object \n",
      " 25  Delay Reported By Person Name        2874 non-null   object \n",
      " 26  Delay Reported By User Name          1387 non-null   object \n",
      " 27  Delay Status Description             8782 non-null   object \n",
      " 28  Delay Start Timestamp (GMT8)         8782 non-null   object \n",
      " 29  Delay Finish Timestamp (GMT8)        8782 non-null   object \n",
      "dtypes: float64(3), int64(2), object(25)\n",
      "memory usage: 2.0+ MB\n"
     ]
    }
   ],
   "source": [
    "DD.info('all')"
   ]
  },
  {
   "cell_type": "code",
   "execution_count": 28,
   "id": "f19f369f",
   "metadata": {},
   "outputs": [
    {
     "data": {
      "text/plain": [
       "Index(['Delay OID', 'Description', 'ECF Class ID', 'Acknowledge Flag',\n",
       "       'Acknowledged Flag', 'Confirmed Flag', 'Engine Stopped Flag',\n",
       "       'Field Notification Required Flag', 'Office Confirm Flag',\n",
       "       'Production Reporting Only Flag', 'Frequency Type', 'Shift Type',\n",
       "       'Target Location', 'Target Road', 'Workorder Ref', 'Delay Class Name',\n",
       "       'Delay Class Description', 'Delay Class is Active Flag',\n",
       "       'Delay Class Category Name', 'Target Machine Name',\n",
       "       'Target Machine is Active Flag', 'Target Machine Class Name',\n",
       "       'Target Machine Class Description',\n",
       "       'Target Machine Class is Active Flag',\n",
       "       'Target Machine Class Category Name', 'Delay Reported By Person Name',\n",
       "       'Delay Reported By User Name', 'Delay Status Description',\n",
       "       'Delay Start Timestamp (GMT8)', 'Delay Finish Timestamp (GMT8)'],\n",
       "      dtype='object')"
      ]
     },
     "execution_count": 28,
     "metadata": {},
     "output_type": "execute_result"
    }
   ],
   "source": [
    "DD.columns"
   ]
  },
  {
   "cell_type": "code",
   "execution_count": 29,
   "id": "f75c8787",
   "metadata": {},
   "outputs": [],
   "source": [
    "Delay_Master = DD[['Delay OID', 'Description','Engine Stopped Flag',\n",
    "       'Field Notification Required Flag','Delay Class Name','Target Machine Name','Target Machine is Active Flag','Target Machine Class Name',\n",
    "       'Target Machine Class Description','Target Machine Class is Active Flag', 'Target Machine Class Category Name',\n",
    "       'Delay Status Description','Delay Start Timestamp (GMT8)', 'Delay Finish Timestamp (GMT8)']]"
   ]
  },
  {
   "cell_type": "code",
   "execution_count": 30,
   "id": "70d449a3",
   "metadata": {},
   "outputs": [],
   "source": [
    "#Coverting Delay Start and Finish into Timestamp Datatypes\n",
    "Delay_Master['Delay Start Timestamp (GMT8)'] = Delay_Master['Delay Start Timestamp (GMT8)'].astype('datetime64')\n",
    "\n",
    "Delay_Master['Delay Finish Timestamp (GMT8)'] = Delay_Master['Delay Finish Timestamp (GMT8)'].astype('datetime64')"
   ]
  },
  {
   "cell_type": "code",
   "execution_count": 31,
   "id": "7d421ca6",
   "metadata": {},
   "outputs": [],
   "source": [
    "#Inserting \"Delay Time\" Column to know the Measurement\n",
    "Delay_Master['Delay Time'] = (Delay_Master['Delay Finish Timestamp (GMT8)'] - Delay_Master['Delay Start Timestamp (GMT8)']).astype('timedelta64[s]')\n",
    "\n",
    "Delay_Master['Delay Time'] = Delay_Master['Delay Time'].astype('int64')"
   ]
  },
  {
   "cell_type": "code",
   "execution_count": 32,
   "id": "aedb8126",
   "metadata": {},
   "outputs": [
    {
     "data": {
      "text/html": [
       "<div>\n",
       "<style scoped>\n",
       "    .dataframe tbody tr th:only-of-type {\n",
       "        vertical-align: middle;\n",
       "    }\n",
       "\n",
       "    .dataframe tbody tr th {\n",
       "        vertical-align: top;\n",
       "    }\n",
       "\n",
       "    .dataframe thead th {\n",
       "        text-align: right;\n",
       "    }\n",
       "</style>\n",
       "<table border=\"1\" class=\"dataframe\">\n",
       "  <thead>\n",
       "    <tr style=\"text-align: right;\">\n",
       "      <th></th>\n",
       "      <th>Delay OID</th>\n",
       "      <th>Description</th>\n",
       "      <th>Engine Stopped Flag</th>\n",
       "      <th>Field Notification Required Flag</th>\n",
       "      <th>Delay Class Name</th>\n",
       "      <th>Target Machine Name</th>\n",
       "      <th>Target Machine is Active Flag</th>\n",
       "      <th>Target Machine Class Name</th>\n",
       "      <th>Target Machine Class Description</th>\n",
       "      <th>Target Machine Class is Active Flag</th>\n",
       "      <th>Target Machine Class Category Name</th>\n",
       "      <th>Delay Status Description</th>\n",
       "      <th>Delay Start Timestamp (GMT8)</th>\n",
       "      <th>Delay Finish Timestamp (GMT8)</th>\n",
       "      <th>Delay Time</th>\n",
       "    </tr>\n",
       "  </thead>\n",
       "  <tbody>\n",
       "    <tr>\n",
       "      <th>0</th>\n",
       "      <td>10721642969</td>\n",
       "      <td>MACHINE GEN Started a delay: 2110_Operator_Hot...</td>\n",
       "      <td>N</td>\n",
       "      <td>N</td>\n",
       "      <td>2110_Operator_Hot_Seat</td>\n",
       "      <td>WL7030</td>\n",
       "      <td>Y</td>\n",
       "      <td>994H</td>\n",
       "      <td>Wheel Loader</td>\n",
       "      <td>Y</td>\n",
       "      <td>Loader Classes</td>\n",
       "      <td>Historical</td>\n",
       "      <td>2020-07-26 02:04:59</td>\n",
       "      <td>2020-07-26 02:08:41</td>\n",
       "      <td>222</td>\n",
       "    </tr>\n",
       "    <tr>\n",
       "      <th>1</th>\n",
       "      <td>10721643044</td>\n",
       "      <td>6026</td>\n",
       "      <td>N</td>\n",
       "      <td>Y</td>\n",
       "      <td>4070_Wait_on_Access</td>\n",
       "      <td>DT5266</td>\n",
       "      <td>Y</td>\n",
       "      <td>CAT 793F CMD</td>\n",
       "      <td>Caterpillar 793 F Autonomous Mining Truck</td>\n",
       "      <td>Y</td>\n",
       "      <td>Truck Classes</td>\n",
       "      <td>Historical</td>\n",
       "      <td>2020-07-26 01:59:06</td>\n",
       "      <td>2020-07-26 02:05:54</td>\n",
       "      <td>408</td>\n",
       "    </tr>\n",
       "    <tr>\n",
       "      <th>2</th>\n",
       "      <td>10721643462</td>\n",
       "      <td>- [STOP_MACHINE : [PRIMARY_POWERTRAIN]]</td>\n",
       "      <td>N</td>\n",
       "      <td>N</td>\n",
       "      <td>8200 Health Event</td>\n",
       "      <td>DT5271</td>\n",
       "      <td>Y</td>\n",
       "      <td>CAT 793F CMD</td>\n",
       "      <td>Caterpillar 793 F Autonomous Mining Truck</td>\n",
       "      <td>Y</td>\n",
       "      <td>Truck Classes</td>\n",
       "      <td>Historical</td>\n",
       "      <td>2020-07-26 02:06:13</td>\n",
       "      <td>2020-07-26 02:06:24</td>\n",
       "      <td>11</td>\n",
       "    </tr>\n",
       "    <tr>\n",
       "      <th>3</th>\n",
       "      <td>10721643635</td>\n",
       "      <td>- [STOP_MACHINE : [PRIMARY_POWERTRAIN]] acces...</td>\n",
       "      <td>N</td>\n",
       "      <td>Y</td>\n",
       "      <td>4170_Operator_Equipment_Checks</td>\n",
       "      <td>DT5271</td>\n",
       "      <td>Y</td>\n",
       "      <td>CAT 793F CMD</td>\n",
       "      <td>Caterpillar 793 F Autonomous Mining Truck</td>\n",
       "      <td>Y</td>\n",
       "      <td>Truck Classes</td>\n",
       "      <td>Historical</td>\n",
       "      <td>2020-07-26 02:06:25</td>\n",
       "      <td>2020-07-26 02:23:48</td>\n",
       "      <td>1043</td>\n",
       "    </tr>\n",
       "    <tr>\n",
       "      <th>4</th>\n",
       "      <td>10721645207</td>\n",
       "      <td>5271</td>\n",
       "      <td>N</td>\n",
       "      <td>Y</td>\n",
       "      <td>7410_Behind_Delayed_Machine</td>\n",
       "      <td>DT5212</td>\n",
       "      <td>Y</td>\n",
       "      <td>CAT 793F CMD</td>\n",
       "      <td>Caterpillar 793 F Autonomous Mining Truck</td>\n",
       "      <td>Y</td>\n",
       "      <td>Truck Classes</td>\n",
       "      <td>Historical</td>\n",
       "      <td>2020-07-26 02:09:44</td>\n",
       "      <td>2020-07-26 02:15:00</td>\n",
       "      <td>316</td>\n",
       "    </tr>\n",
       "  </tbody>\n",
       "</table>\n",
       "</div>"
      ],
      "text/plain": [
       "     Delay OID                                        Description  \\\n",
       "0  10721642969  MACHINE GEN Started a delay: 2110_Operator_Hot...   \n",
       "1  10721643044                                               6026   \n",
       "2  10721643462            - [STOP_MACHINE : [PRIMARY_POWERTRAIN]]   \n",
       "3  10721643635   - [STOP_MACHINE : [PRIMARY_POWERTRAIN]] acces...   \n",
       "4  10721645207                                               5271   \n",
       "\n",
       "  Engine Stopped Flag Field Notification Required Flag  \\\n",
       "0                   N                                N   \n",
       "1                   N                                Y   \n",
       "2                   N                                N   \n",
       "3                   N                                Y   \n",
       "4                   N                                Y   \n",
       "\n",
       "                 Delay Class Name Target Machine Name  \\\n",
       "0          2110_Operator_Hot_Seat              WL7030   \n",
       "1             4070_Wait_on_Access              DT5266   \n",
       "2               8200 Health Event              DT5271   \n",
       "3  4170_Operator_Equipment_Checks              DT5271   \n",
       "4     7410_Behind_Delayed_Machine              DT5212   \n",
       "\n",
       "  Target Machine is Active Flag Target Machine Class Name  \\\n",
       "0                             Y                      994H   \n",
       "1                             Y              CAT 793F CMD   \n",
       "2                             Y              CAT 793F CMD   \n",
       "3                             Y              CAT 793F CMD   \n",
       "4                             Y              CAT 793F CMD   \n",
       "\n",
       "            Target Machine Class Description  \\\n",
       "0                               Wheel Loader   \n",
       "1  Caterpillar 793 F Autonomous Mining Truck   \n",
       "2  Caterpillar 793 F Autonomous Mining Truck   \n",
       "3  Caterpillar 793 F Autonomous Mining Truck   \n",
       "4  Caterpillar 793 F Autonomous Mining Truck   \n",
       "\n",
       "  Target Machine Class is Active Flag Target Machine Class Category Name  \\\n",
       "0                                   Y                     Loader Classes   \n",
       "1                                   Y                      Truck Classes   \n",
       "2                                   Y                      Truck Classes   \n",
       "3                                   Y                      Truck Classes   \n",
       "4                                   Y                      Truck Classes   \n",
       "\n",
       "  Delay Status Description Delay Start Timestamp (GMT8)  \\\n",
       "0               Historical          2020-07-26 02:04:59   \n",
       "1               Historical          2020-07-26 01:59:06   \n",
       "2               Historical          2020-07-26 02:06:13   \n",
       "3               Historical          2020-07-26 02:06:25   \n",
       "4               Historical          2020-07-26 02:09:44   \n",
       "\n",
       "  Delay Finish Timestamp (GMT8)  Delay Time  \n",
       "0           2020-07-26 02:08:41         222  \n",
       "1           2020-07-26 02:05:54         408  \n",
       "2           2020-07-26 02:06:24          11  \n",
       "3           2020-07-26 02:23:48        1043  \n",
       "4           2020-07-26 02:15:00         316  "
      ]
     },
     "execution_count": 32,
     "metadata": {},
     "output_type": "execute_result"
    }
   ],
   "source": [
    "Delay_Master.head()"
   ]
  },
  {
   "cell_type": "code",
   "execution_count": 33,
   "id": "f28961a2",
   "metadata": {},
   "outputs": [
    {
     "data": {
      "text/html": [
       "<div>\n",
       "<style scoped>\n",
       "    .dataframe tbody tr th:only-of-type {\n",
       "        vertical-align: middle;\n",
       "    }\n",
       "\n",
       "    .dataframe tbody tr th {\n",
       "        vertical-align: top;\n",
       "    }\n",
       "\n",
       "    .dataframe thead th {\n",
       "        text-align: right;\n",
       "    }\n",
       "</style>\n",
       "<table border=\"1\" class=\"dataframe\">\n",
       "  <thead>\n",
       "    <tr style=\"text-align: right;\">\n",
       "      <th></th>\n",
       "      <th>Delay Time</th>\n",
       "      <th>Target Machine Name</th>\n",
       "    </tr>\n",
       "    <tr>\n",
       "      <th>Target Machine Name</th>\n",
       "      <th></th>\n",
       "      <th></th>\n",
       "    </tr>\n",
       "  </thead>\n",
       "  <tbody>\n",
       "    <tr>\n",
       "      <th>DT4123</th>\n",
       "      <td>458408</td>\n",
       "      <td>8</td>\n",
       "    </tr>\n",
       "    <tr>\n",
       "      <th>DT4140</th>\n",
       "      <td>740710</td>\n",
       "      <td>19</td>\n",
       "    </tr>\n",
       "    <tr>\n",
       "      <th>DT5162</th>\n",
       "      <td>319304</td>\n",
       "      <td>71</td>\n",
       "    </tr>\n",
       "    <tr>\n",
       "      <th>DT5168</th>\n",
       "      <td>102654</td>\n",
       "      <td>93</td>\n",
       "    </tr>\n",
       "    <tr>\n",
       "      <th>DT5169</th>\n",
       "      <td>281625</td>\n",
       "      <td>85</td>\n",
       "    </tr>\n",
       "    <tr>\n",
       "      <th>...</th>\n",
       "      <td>...</td>\n",
       "      <td>...</td>\n",
       "    </tr>\n",
       "    <tr>\n",
       "      <th>WL7030</th>\n",
       "      <td>292186</td>\n",
       "      <td>141</td>\n",
       "    </tr>\n",
       "    <tr>\n",
       "      <th>WL7031</th>\n",
       "      <td>741826</td>\n",
       "      <td>1</td>\n",
       "    </tr>\n",
       "    <tr>\n",
       "      <th>WL7032</th>\n",
       "      <td>211395</td>\n",
       "      <td>117</td>\n",
       "    </tr>\n",
       "    <tr>\n",
       "      <th>WL7039</th>\n",
       "      <td>395387</td>\n",
       "      <td>86</td>\n",
       "    </tr>\n",
       "    <tr>\n",
       "      <th>WL7058</th>\n",
       "      <td>423339</td>\n",
       "      <td>87</td>\n",
       "    </tr>\n",
       "  </tbody>\n",
       "</table>\n",
       "<p>79 rows × 2 columns</p>\n",
       "</div>"
      ],
      "text/plain": [
       "                     Delay Time  Target Machine Name\n",
       "Target Machine Name                                 \n",
       "DT4123                   458408                    8\n",
       "DT4140                   740710                   19\n",
       "DT5162                   319304                   71\n",
       "DT5168                   102654                   93\n",
       "DT5169                   281625                   85\n",
       "...                         ...                  ...\n",
       "WL7030                   292186                  141\n",
       "WL7031                   741826                    1\n",
       "WL7032                   211395                  117\n",
       "WL7039                   395387                   86\n",
       "WL7058                   423339                   87\n",
       "\n",
       "[79 rows x 2 columns]"
      ]
     },
     "execution_count": 33,
     "metadata": {},
     "output_type": "execute_result"
    }
   ],
   "source": [
    "Delay_Master.groupby('Target Machine Name').agg({'Delay Time':'sum','Target Machine Name':'count'})"
   ]
  },
  {
   "cell_type": "markdown",
   "id": "572d6501",
   "metadata": {},
   "source": [
    "### Importing DataSet 3 - Location Data"
   ]
  },
  {
   "cell_type": "code",
   "execution_count": 34,
   "id": "8c3d5424",
   "metadata": {},
   "outputs": [
    {
     "data": {
      "text/html": [
       "<div>\n",
       "<style scoped>\n",
       "    .dataframe tbody tr th:only-of-type {\n",
       "        vertical-align: middle;\n",
       "    }\n",
       "\n",
       "    .dataframe tbody tr th {\n",
       "        vertical-align: top;\n",
       "    }\n",
       "\n",
       "    .dataframe thead th {\n",
       "        text-align: right;\n",
       "    }\n",
       "</style>\n",
       "<table border=\"1\" class=\"dataframe\">\n",
       "  <thead>\n",
       "    <tr style=\"text-align: right;\">\n",
       "      <th></th>\n",
       "      <th>Location_Id</th>\n",
       "      <th>Name</th>\n",
       "      <th>Latitude</th>\n",
       "      <th>Longitude</th>\n",
       "    </tr>\n",
       "  </thead>\n",
       "  <tbody>\n",
       "    <tr>\n",
       "      <th>0</th>\n",
       "      <td>1</td>\n",
       "      <td>DS_H1C1</td>\n",
       "      <td>23.370670</td>\n",
       "      <td>4067.363348</td>\n",
       "    </tr>\n",
       "    <tr>\n",
       "      <th>1</th>\n",
       "      <td>2</td>\n",
       "      <td>DS_JB_Fill</td>\n",
       "      <td>23.378029</td>\n",
       "      <td>3883.118054</td>\n",
       "    </tr>\n",
       "    <tr>\n",
       "      <th>2</th>\n",
       "      <td>3</td>\n",
       "      <td>DS_OB18_18EP</td>\n",
       "      <td>23.321309</td>\n",
       "      <td>4202.132688</td>\n",
       "    </tr>\n",
       "    <tr>\n",
       "      <th>3</th>\n",
       "      <td>4</td>\n",
       "      <td>DS_OB31B_3</td>\n",
       "      <td>23.317018</td>\n",
       "      <td>4203.555368</td>\n",
       "    </tr>\n",
       "    <tr>\n",
       "      <th>4</th>\n",
       "      <td>5</td>\n",
       "      <td>DS_STH_PIT_2</td>\n",
       "      <td>23.393871</td>\n",
       "      <td>3883.003552</td>\n",
       "    </tr>\n",
       "  </tbody>\n",
       "</table>\n",
       "</div>"
      ],
      "text/plain": [
       "   Location_Id          Name   Latitude    Longitude\n",
       "0            1       DS_H1C1  23.370670  4067.363348\n",
       "1            2    DS_JB_Fill  23.378029  3883.118054\n",
       "2            3  DS_OB18_18EP  23.321309  4202.132688\n",
       "3            4    DS_OB31B_3  23.317018  4203.555368\n",
       "4            5  DS_STH_PIT_2  23.393871  3883.003552"
      ]
     },
     "execution_count": 34,
     "metadata": {},
     "output_type": "execute_result"
    }
   ],
   "source": [
    "#importing File\n",
    "LD = pd.read_csv(r'E:\\DATA SCIENCE LAST\\CAPSTONE\\Inputs\\LocationData.csv')\n",
    "LD.head()"
   ]
  },
  {
   "cell_type": "code",
   "execution_count": 35,
   "id": "4a6f6de4",
   "metadata": {},
   "outputs": [
    {
     "name": "stdout",
     "output_type": "stream",
     "text": [
      "<class 'pandas.core.frame.DataFrame'>\n",
      "RangeIndex: 31 entries, 0 to 30\n",
      "Data columns (total 4 columns):\n",
      " #   Column       Non-Null Count  Dtype  \n",
      "---  ------       --------------  -----  \n",
      " 0   Location_Id  31 non-null     int64  \n",
      " 1   Name         31 non-null     object \n",
      " 2   Latitude     31 non-null     float64\n",
      " 3   Longitude    31 non-null     float64\n",
      "dtypes: float64(2), int64(1), object(1)\n",
      "memory usage: 1.1+ KB\n"
     ]
    }
   ],
   "source": [
    "LD.info()"
   ]
  },
  {
   "cell_type": "markdown",
   "id": "7f59effc",
   "metadata": {},
   "source": [
    "After plotting we saw positive lattitude are going far away hnce converting the positive lattitye to negative"
   ]
  },
  {
   "cell_type": "code",
   "execution_count": 36,
   "id": "c4e2c200",
   "metadata": {},
   "outputs": [
    {
     "data": {
      "text/html": [
       "<div>\n",
       "<style scoped>\n",
       "    .dataframe tbody tr th:only-of-type {\n",
       "        vertical-align: middle;\n",
       "    }\n",
       "\n",
       "    .dataframe tbody tr th {\n",
       "        vertical-align: top;\n",
       "    }\n",
       "\n",
       "    .dataframe thead th {\n",
       "        text-align: right;\n",
       "    }\n",
       "</style>\n",
       "<table border=\"1\" class=\"dataframe\">\n",
       "  <thead>\n",
       "    <tr style=\"text-align: right;\">\n",
       "      <th></th>\n",
       "      <th>Location_Id</th>\n",
       "      <th>Name</th>\n",
       "      <th>Latitude</th>\n",
       "      <th>Longitude</th>\n",
       "    </tr>\n",
       "  </thead>\n",
       "  <tbody>\n",
       "    <tr>\n",
       "      <th>0</th>\n",
       "      <td>1</td>\n",
       "      <td>DS_H1C1</td>\n",
       "      <td>-23.370670</td>\n",
       "      <td>4067.363348</td>\n",
       "    </tr>\n",
       "    <tr>\n",
       "      <th>1</th>\n",
       "      <td>2</td>\n",
       "      <td>DS_JB_Fill</td>\n",
       "      <td>-23.378029</td>\n",
       "      <td>3883.118054</td>\n",
       "    </tr>\n",
       "    <tr>\n",
       "      <th>2</th>\n",
       "      <td>3</td>\n",
       "      <td>DS_OB18_18EP</td>\n",
       "      <td>-23.321309</td>\n",
       "      <td>4202.132688</td>\n",
       "    </tr>\n",
       "    <tr>\n",
       "      <th>3</th>\n",
       "      <td>4</td>\n",
       "      <td>DS_OB31B_3</td>\n",
       "      <td>-23.317018</td>\n",
       "      <td>4203.555368</td>\n",
       "    </tr>\n",
       "    <tr>\n",
       "      <th>4</th>\n",
       "      <td>5</td>\n",
       "      <td>DS_STH_PIT_2</td>\n",
       "      <td>-23.393871</td>\n",
       "      <td>3883.003552</td>\n",
       "    </tr>\n",
       "    <tr>\n",
       "      <th>5</th>\n",
       "      <td>6</td>\n",
       "      <td>DS_W1A2</td>\n",
       "      <td>-23.164861</td>\n",
       "      <td>4202.946825</td>\n",
       "    </tr>\n",
       "    <tr>\n",
       "      <th>6</th>\n",
       "      <td>7</td>\n",
       "      <td>DS_W2C2_1</td>\n",
       "      <td>-23.374642</td>\n",
       "      <td>4043.319503</td>\n",
       "    </tr>\n",
       "    <tr>\n",
       "      <th>7</th>\n",
       "      <td>8</td>\n",
       "      <td>DS_W55B</td>\n",
       "      <td>-23.378768</td>\n",
       "      <td>4205.860720</td>\n",
       "    </tr>\n",
       "    <tr>\n",
       "      <th>8</th>\n",
       "      <td>9</td>\n",
       "      <td>DS_W55B_2</td>\n",
       "      <td>-23.371916</td>\n",
       "      <td>4056.194529</td>\n",
       "    </tr>\n",
       "    <tr>\n",
       "      <th>9</th>\n",
       "      <td>10</td>\n",
       "      <td>DS_W55D</td>\n",
       "      <td>-23.371724</td>\n",
       "      <td>4045.024300</td>\n",
       "    </tr>\n",
       "    <tr>\n",
       "      <th>10</th>\n",
       "      <td>11</td>\n",
       "      <td>DS_OB31_NORTH_2</td>\n",
       "      <td>-23.317247</td>\n",
       "      <td>4203.552994</td>\n",
       "    </tr>\n",
       "    <tr>\n",
       "      <th>11</th>\n",
       "      <td>12</td>\n",
       "      <td>DS_OB31_NORTH_2</td>\n",
       "      <td>-23.306816</td>\n",
       "      <td>120.092117</td>\n",
       "    </tr>\n",
       "    <tr>\n",
       "      <th>12</th>\n",
       "      <td>13</td>\n",
       "      <td>DS_OB31_NORTH_3</td>\n",
       "      <td>-23.305212</td>\n",
       "      <td>120.095535</td>\n",
       "    </tr>\n",
       "    <tr>\n",
       "      <th>13</th>\n",
       "      <td>14</td>\n",
       "      <td>DS_PC1</td>\n",
       "      <td>-23.380738</td>\n",
       "      <td>120.107631</td>\n",
       "    </tr>\n",
       "    <tr>\n",
       "      <th>14</th>\n",
       "      <td>15</td>\n",
       "      <td>DS_PC3</td>\n",
       "      <td>-23.383169</td>\n",
       "      <td>120.181625</td>\n",
       "    </tr>\n",
       "    <tr>\n",
       "      <th>15</th>\n",
       "      <td>16</td>\n",
       "      <td>DS_SJS_AV05_1</td>\n",
       "      <td>-23.368467</td>\n",
       "      <td>120.089446</td>\n",
       "    </tr>\n",
       "    <tr>\n",
       "      <th>16</th>\n",
       "      <td>17</td>\n",
       "      <td>DS_W3_AX11</td>\n",
       "      <td>-23.368104</td>\n",
       "      <td>120.106472</td>\n",
       "    </tr>\n",
       "    <tr>\n",
       "      <th>17</th>\n",
       "      <td>18</td>\n",
       "      <td>DS_W5_BD08_2</td>\n",
       "      <td>-23.382932</td>\n",
       "      <td>120.185689</td>\n",
       "    </tr>\n",
       "    <tr>\n",
       "      <th>18</th>\n",
       "      <td>19</td>\n",
       "      <td>DS_W5_BI12</td>\n",
       "      <td>-23.376023</td>\n",
       "      <td>120.172029</td>\n",
       "    </tr>\n",
       "    <tr>\n",
       "      <th>19</th>\n",
       "      <td>20</td>\n",
       "      <td>DS_W5_BN10</td>\n",
       "      <td>-23.382040</td>\n",
       "      <td>120.190122</td>\n",
       "    </tr>\n",
       "    <tr>\n",
       "      <th>20</th>\n",
       "      <td>21</td>\n",
       "      <td>DS_W5_BN10_2</td>\n",
       "      <td>-23.381506</td>\n",
       "      <td>120.191014</td>\n",
       "    </tr>\n",
       "    <tr>\n",
       "      <th>21</th>\n",
       "      <td>22</td>\n",
       "      <td>DS_AU_12</td>\n",
       "      <td>-23.377712</td>\n",
       "      <td>120.100733</td>\n",
       "    </tr>\n",
       "    <tr>\n",
       "      <th>22</th>\n",
       "      <td>23</td>\n",
       "      <td>DS_OB18_BLACKWOOD</td>\n",
       "      <td>-23.335497</td>\n",
       "      <td>120.042332</td>\n",
       "    </tr>\n",
       "    <tr>\n",
       "      <th>23</th>\n",
       "      <td>24</td>\n",
       "      <td>DS_PC3_WASTE_3</td>\n",
       "      <td>-23.380471</td>\n",
       "      <td>120.173828</td>\n",
       "    </tr>\n",
       "    <tr>\n",
       "      <th>24</th>\n",
       "      <td>25</td>\n",
       "      <td>DS_OB18_A</td>\n",
       "      <td>-23.338263</td>\n",
       "      <td>120.043252</td>\n",
       "    </tr>\n",
       "    <tr>\n",
       "      <th>25</th>\n",
       "      <td>26</td>\n",
       "      <td>DS_OB18_FP02</td>\n",
       "      <td>-23.334046</td>\n",
       "      <td>120.041567</td>\n",
       "    </tr>\n",
       "    <tr>\n",
       "      <th>26</th>\n",
       "      <td>27</td>\n",
       "      <td>DS_W2_AV08</td>\n",
       "      <td>-23.368831</td>\n",
       "      <td>120.105023</td>\n",
       "    </tr>\n",
       "    <tr>\n",
       "      <th>27</th>\n",
       "      <td>28</td>\n",
       "      <td>DS_C1</td>\n",
       "      <td>-23.332080</td>\n",
       "      <td>120.051541</td>\n",
       "    </tr>\n",
       "    <tr>\n",
       "      <th>28</th>\n",
       "      <td>29</td>\n",
       "      <td>0.30617088</td>\n",
       "      <td>-23.385437</td>\n",
       "      <td>120.096903</td>\n",
       "    </tr>\n",
       "    <tr>\n",
       "      <th>29</th>\n",
       "      <td>30</td>\n",
       "      <td>1.0</td>\n",
       "      <td>-23.374263</td>\n",
       "      <td>120.135284</td>\n",
       "    </tr>\n",
       "    <tr>\n",
       "      <th>30</th>\n",
       "      <td>31</td>\n",
       "      <td>DS_W3_ANZAC</td>\n",
       "      <td>-23.368739</td>\n",
       "      <td>120.111023</td>\n",
       "    </tr>\n",
       "  </tbody>\n",
       "</table>\n",
       "</div>"
      ],
      "text/plain": [
       "    Location_Id               Name   Latitude    Longitude\n",
       "0             1            DS_H1C1 -23.370670  4067.363348\n",
       "1             2         DS_JB_Fill -23.378029  3883.118054\n",
       "2             3       DS_OB18_18EP -23.321309  4202.132688\n",
       "3             4         DS_OB31B_3 -23.317018  4203.555368\n",
       "4             5       DS_STH_PIT_2 -23.393871  3883.003552\n",
       "5             6            DS_W1A2 -23.164861  4202.946825\n",
       "6             7          DS_W2C2_1 -23.374642  4043.319503\n",
       "7             8            DS_W55B -23.378768  4205.860720\n",
       "8             9          DS_W55B_2 -23.371916  4056.194529\n",
       "9            10            DS_W55D -23.371724  4045.024300\n",
       "10           11    DS_OB31_NORTH_2 -23.317247  4203.552994\n",
       "11           12    DS_OB31_NORTH_2 -23.306816   120.092117\n",
       "12           13    DS_OB31_NORTH_3 -23.305212   120.095535\n",
       "13           14             DS_PC1 -23.380738   120.107631\n",
       "14           15             DS_PC3 -23.383169   120.181625\n",
       "15           16      DS_SJS_AV05_1 -23.368467   120.089446\n",
       "16           17         DS_W3_AX11 -23.368104   120.106472\n",
       "17           18       DS_W5_BD08_2 -23.382932   120.185689\n",
       "18           19         DS_W5_BI12 -23.376023   120.172029\n",
       "19           20         DS_W5_BN10 -23.382040   120.190122\n",
       "20           21       DS_W5_BN10_2 -23.381506   120.191014\n",
       "21           22           DS_AU_12 -23.377712   120.100733\n",
       "22           23  DS_OB18_BLACKWOOD -23.335497   120.042332\n",
       "23           24     DS_PC3_WASTE_3 -23.380471   120.173828\n",
       "24           25          DS_OB18_A -23.338263   120.043252\n",
       "25           26       DS_OB18_FP02 -23.334046   120.041567\n",
       "26           27         DS_W2_AV08 -23.368831   120.105023\n",
       "27           28              DS_C1 -23.332080   120.051541\n",
       "28           29         0.30617088 -23.385437   120.096903\n",
       "29           30                1.0 -23.374263   120.135284\n",
       "30           31        DS_W3_ANZAC -23.368739   120.111023"
      ]
     },
     "execution_count": 36,
     "metadata": {},
     "output_type": "execute_result"
    }
   ],
   "source": [
    "mask = LD['Latitude'] > 0\n",
    "LD.loc[mask, 'Latitude'] = LD.loc[mask, 'Latitude'] * -1\n",
    "LD"
   ]
  },
  {
   "cell_type": "code",
   "execution_count": null,
   "id": "95d27b12",
   "metadata": {},
   "outputs": [],
   "source": []
  },
  {
   "cell_type": "markdown",
   "id": "7b421e24",
   "metadata": {},
   "source": [
    "### Merging the Location Type Tables in Movement Data"
   ]
  },
  {
   "cell_type": "code",
   "execution_count": 37,
   "id": "20d665be",
   "metadata": {},
   "outputs": [],
   "source": [
    "Truck_Movement = Truck_Movement.merge(LD, how='left', left_on=['Source Location Name'], right_on=['Name'])\n",
    "Truck_Movement = Truck_Movement.merge(LD, how='left', left_on=['Destination Location Name'], right_on=['Name'])"
   ]
  },
  {
   "cell_type": "code",
   "execution_count": 38,
   "id": "667bc763",
   "metadata": {},
   "outputs": [
    {
     "data": {
      "text/plain": [
       "Index(['Movement_Id', 'Primary Machine Name', 'Source Location Name',\n",
       "       'Destination Location Name', 'Payload (t)', 'Completed Cycle Count',\n",
       "       'COMPLETEDCYCLEDURATION', 'TMPH', 'Cycle End Timestamp in MM:SS',\n",
       "       'Cycle Start Timestamp in MM:SS', 'Location_Id_x', 'Name_x',\n",
       "       'Latitude_x', 'Longitude_x', 'Location_Id_y', 'Name_y', 'Latitude_y',\n",
       "       'Longitude_y'],\n",
       "      dtype='object')"
      ]
     },
     "execution_count": 38,
     "metadata": {},
     "output_type": "execute_result"
    }
   ],
   "source": [
    "Truck_Movement.columns"
   ]
  },
  {
   "cell_type": "code",
   "execution_count": 39,
   "id": "9876caaf",
   "metadata": {},
   "outputs": [
    {
     "data": {
      "text/html": [
       "<div>\n",
       "<style scoped>\n",
       "    .dataframe tbody tr th:only-of-type {\n",
       "        vertical-align: middle;\n",
       "    }\n",
       "\n",
       "    .dataframe tbody tr th {\n",
       "        vertical-align: top;\n",
       "    }\n",
       "\n",
       "    .dataframe thead th {\n",
       "        text-align: right;\n",
       "    }\n",
       "</style>\n",
       "<table border=\"1\" class=\"dataframe\">\n",
       "  <thead>\n",
       "    <tr style=\"text-align: right;\">\n",
       "      <th></th>\n",
       "      <th>Movement_Id</th>\n",
       "      <th>Primary Machine Name</th>\n",
       "      <th>Source Location Name</th>\n",
       "      <th>Destination Location Name</th>\n",
       "      <th>Payload (t)</th>\n",
       "      <th>Completed Cycle Count</th>\n",
       "      <th>COMPLETEDCYCLEDURATION</th>\n",
       "      <th>TMPH</th>\n",
       "      <th>Cycle End Timestamp in MM:SS</th>\n",
       "      <th>Cycle Start Timestamp in MM:SS</th>\n",
       "      <th>Location_Id_x</th>\n",
       "      <th>Name_x</th>\n",
       "      <th>Latitude_x</th>\n",
       "      <th>Longitude_x</th>\n",
       "      <th>Location_Id_y</th>\n",
       "      <th>Name_y</th>\n",
       "      <th>Latitude_y</th>\n",
       "      <th>Longitude_y</th>\n",
       "    </tr>\n",
       "  </thead>\n",
       "  <tbody>\n",
       "    <tr>\n",
       "      <th>0</th>\n",
       "      <td>1.0</td>\n",
       "      <td>DT5209</td>\n",
       "      <td>DS_OB18_B_PAD</td>\n",
       "      <td>DS_C1</td>\n",
       "      <td>260.3</td>\n",
       "      <td>Yes</td>\n",
       "      <td>737</td>\n",
       "      <td>43525.938</td>\n",
       "      <td>2020-07-20 02:15:42</td>\n",
       "      <td>2020-07-20 02:03:25</td>\n",
       "      <td>NaN</td>\n",
       "      <td>NaN</td>\n",
       "      <td>NaN</td>\n",
       "      <td>NaN</td>\n",
       "      <td>28.0</td>\n",
       "      <td>DS_C1</td>\n",
       "      <td>-23.33208</td>\n",
       "      <td>120.051541</td>\n",
       "    </tr>\n",
       "    <tr>\n",
       "      <th>1</th>\n",
       "      <td>2.0</td>\n",
       "      <td>DT5209</td>\n",
       "      <td>DS_OB18_B_PAD</td>\n",
       "      <td>DS_C1</td>\n",
       "      <td>224.4</td>\n",
       "      <td>Yes</td>\n",
       "      <td>527</td>\n",
       "      <td>19591.871</td>\n",
       "      <td>2020-07-20 04:58:40</td>\n",
       "      <td>2020-07-20 04:49:53</td>\n",
       "      <td>NaN</td>\n",
       "      <td>NaN</td>\n",
       "      <td>NaN</td>\n",
       "      <td>NaN</td>\n",
       "      <td>28.0</td>\n",
       "      <td>DS_C1</td>\n",
       "      <td>-23.33208</td>\n",
       "      <td>120.051541</td>\n",
       "    </tr>\n",
       "    <tr>\n",
       "      <th>2</th>\n",
       "      <td>3.0</td>\n",
       "      <td>DT5283</td>\n",
       "      <td>DS_OB18_B_PAD</td>\n",
       "      <td>DS_C1</td>\n",
       "      <td>232.8</td>\n",
       "      <td>Yes</td>\n",
       "      <td>496</td>\n",
       "      <td>21472.049</td>\n",
       "      <td>2020-07-20 05:28:17</td>\n",
       "      <td>2020-07-20 05:20:01</td>\n",
       "      <td>NaN</td>\n",
       "      <td>NaN</td>\n",
       "      <td>NaN</td>\n",
       "      <td>NaN</td>\n",
       "      <td>28.0</td>\n",
       "      <td>DS_C1</td>\n",
       "      <td>-23.33208</td>\n",
       "      <td>120.051541</td>\n",
       "    </tr>\n",
       "    <tr>\n",
       "      <th>3</th>\n",
       "      <td>4.0</td>\n",
       "      <td>DT5283</td>\n",
       "      <td>DS_OB18_B_PAD</td>\n",
       "      <td>DS_C1</td>\n",
       "      <td>238.1</td>\n",
       "      <td>Yes</td>\n",
       "      <td>714</td>\n",
       "      <td>18281.908</td>\n",
       "      <td>2020-07-20 03:21:49</td>\n",
       "      <td>2020-07-20 03:09:55</td>\n",
       "      <td>NaN</td>\n",
       "      <td>NaN</td>\n",
       "      <td>NaN</td>\n",
       "      <td>NaN</td>\n",
       "      <td>28.0</td>\n",
       "      <td>DS_C1</td>\n",
       "      <td>-23.33208</td>\n",
       "      <td>120.051541</td>\n",
       "    </tr>\n",
       "    <tr>\n",
       "      <th>4</th>\n",
       "      <td>5.0</td>\n",
       "      <td>DT5283</td>\n",
       "      <td>DS_OB18_B_PAD</td>\n",
       "      <td>DS_C1</td>\n",
       "      <td>228.8</td>\n",
       "      <td>Yes</td>\n",
       "      <td>512</td>\n",
       "      <td>20165.852</td>\n",
       "      <td>2020-07-20 05:02:32</td>\n",
       "      <td>2020-07-20 04:54:00</td>\n",
       "      <td>NaN</td>\n",
       "      <td>NaN</td>\n",
       "      <td>NaN</td>\n",
       "      <td>NaN</td>\n",
       "      <td>28.0</td>\n",
       "      <td>DS_C1</td>\n",
       "      <td>-23.33208</td>\n",
       "      <td>120.051541</td>\n",
       "    </tr>\n",
       "  </tbody>\n",
       "</table>\n",
       "</div>"
      ],
      "text/plain": [
       "   Movement_Id Primary Machine Name Source Location Name  \\\n",
       "0          1.0               DT5209        DS_OB18_B_PAD   \n",
       "1          2.0               DT5209        DS_OB18_B_PAD   \n",
       "2          3.0               DT5283        DS_OB18_B_PAD   \n",
       "3          4.0               DT5283        DS_OB18_B_PAD   \n",
       "4          5.0               DT5283        DS_OB18_B_PAD   \n",
       "\n",
       "  Destination Location Name  Payload (t) Completed Cycle Count  \\\n",
       "0                     DS_C1        260.3                   Yes   \n",
       "1                     DS_C1        224.4                   Yes   \n",
       "2                     DS_C1        232.8                   Yes   \n",
       "3                     DS_C1        238.1                   Yes   \n",
       "4                     DS_C1        228.8                   Yes   \n",
       "\n",
       "   COMPLETEDCYCLEDURATION       TMPH Cycle End Timestamp in MM:SS  \\\n",
       "0                     737  43525.938          2020-07-20 02:15:42   \n",
       "1                     527  19591.871          2020-07-20 04:58:40   \n",
       "2                     496  21472.049          2020-07-20 05:28:17   \n",
       "3                     714  18281.908          2020-07-20 03:21:49   \n",
       "4                     512  20165.852          2020-07-20 05:02:32   \n",
       "\n",
       "  Cycle Start Timestamp in MM:SS  Location_Id_x Name_x  Latitude_x  \\\n",
       "0            2020-07-20 02:03:25            NaN    NaN         NaN   \n",
       "1            2020-07-20 04:49:53            NaN    NaN         NaN   \n",
       "2            2020-07-20 05:20:01            NaN    NaN         NaN   \n",
       "3            2020-07-20 03:09:55            NaN    NaN         NaN   \n",
       "4            2020-07-20 04:54:00            NaN    NaN         NaN   \n",
       "\n",
       "   Longitude_x  Location_Id_y Name_y  Latitude_y  Longitude_y  \n",
       "0          NaN           28.0  DS_C1   -23.33208   120.051541  \n",
       "1          NaN           28.0  DS_C1   -23.33208   120.051541  \n",
       "2          NaN           28.0  DS_C1   -23.33208   120.051541  \n",
       "3          NaN           28.0  DS_C1   -23.33208   120.051541  \n",
       "4          NaN           28.0  DS_C1   -23.33208   120.051541  "
      ]
     },
     "execution_count": 39,
     "metadata": {},
     "output_type": "execute_result"
    }
   ],
   "source": [
    "Truck_Movement.head()"
   ]
  },
  {
   "cell_type": "code",
   "execution_count": 40,
   "id": "af7e0ae0",
   "metadata": {},
   "outputs": [],
   "source": [
    "Truck_Movement.drop(columns=['Location_Id_x','Location_Id_y','Name_x', 'Name_y'], inplace=True)\n",
    "Truck_Movement = Truck_Movement.rename(columns={'Latitude_x': 'Source_Latitude', 'Longitude_x': 'Source_Longitude',\n",
    "                                               'Latitude_y': 'Dest_Latitude', 'Longitude_y': 'Dest_Longitude'})"
   ]
  },
  {
   "cell_type": "code",
   "execution_count": 41,
   "id": "caac58d2",
   "metadata": {},
   "outputs": [
    {
     "data": {
      "text/plain": [
       "Index(['Movement_Id', 'Primary Machine Name', 'Source Location Name',\n",
       "       'Destination Location Name', 'Payload (t)', 'Completed Cycle Count',\n",
       "       'COMPLETEDCYCLEDURATION', 'TMPH', 'Cycle End Timestamp in MM:SS',\n",
       "       'Cycle Start Timestamp in MM:SS', 'Source_Latitude', 'Source_Longitude',\n",
       "       'Dest_Latitude', 'Dest_Longitude'],\n",
       "      dtype='object')"
      ]
     },
     "execution_count": 41,
     "metadata": {},
     "output_type": "execute_result"
    }
   ],
   "source": [
    "Truck_Movement.columns"
   ]
  },
  {
   "cell_type": "code",
   "execution_count": 42,
   "id": "8e03644a",
   "metadata": {},
   "outputs": [],
   "source": [
    "Truck_Movement['Path'] = Truck_Movement['Source_Latitude'].astype(str) + ', ' + Truck_Movement['Source_Longitude'].astype(str) + ' to ' + Truck_Movement['Dest_Latitude'].astype(str) + ', ' + Truck_Movement['Dest_Longitude'].astype(str)                      "
   ]
  },
  {
   "cell_type": "markdown",
   "id": "c8b7a752",
   "metadata": {},
   "source": [
    "### OEE Calculations"
   ]
  },
  {
   "cell_type": "markdown",
   "id": "d84d347e",
   "metadata": {},
   "source": [
    "### Creating Key Table"
   ]
  },
  {
   "cell_type": "code",
   "execution_count": 43,
   "id": "1360e922",
   "metadata": {},
   "outputs": [
    {
     "data": {
      "text/plain": [
       "Index(['ASSOCPAYLOADNOMINAL', 'AT Available Time (iMine)', 'Autonomous',\n",
       "       'Available SMU Time', 'Available Time', 'Completed Cycle Count',\n",
       "       'COMPLETEDCYCLEDURATION', 'Creation Mode', 'CT Calendar SMU Time',\n",
       "       'CT Calendar Time', 'Cycle Duration', 'Cycle SMU Duration',\n",
       "       'Cycle Type', 'Delay Time', 'Down Time', 'DTE Down Time Equipment',\n",
       "       'Dumping Duration', 'Dumping SMU Duration',\n",
       "       'Destination Dumping Start Timestamp (GMT8)', 'Empty EFH Distance',\n",
       "       'Empty EFH Length', 'Empty Expected Travel Duration',\n",
       "       'Empty Fall Height', 'Empty Plan Length', 'Empty Rise Height',\n",
       "       'Empty Slope Distance', 'Empty Slope Length',\n",
       "       'Empty Target Travel Duration', 'Empty Travel Duration',\n",
       "       'End Processor Name', 'Cycle End Timestamp (GMT8)',\n",
       "       'Estimated Fuel Used', 'Fuel Used', 'Full Expected Travel Duration',\n",
       "       'Full Travel Duration', 'IC', 'Idle Duration', 'iMine Availability',\n",
       "       'iMine Engine Hours', 'iMine Load FCTR Truck', 'iMine Operating Hours',\n",
       "       'iMine Utilisation', 'Loading Count', 'Loading Duration',\n",
       "       'Loading Efficiency', 'Source Loading End Timestamp (GMT8)',\n",
       "       'Source Loading Start Timestamp (GMT8)', 'OPERATINGBURNRATE',\n",
       "       'OPERATINGTIME (CAT)', 'OPERHOURSSECONDS', 'Payload (kg)',\n",
       "       'Payload (t)', 'PREVIOUSSECONDARYMACHINE', 'PREVIOUSSINKDESTINATION',\n",
       "       'QUEUEATSINKDURATION', 'Queuing at Sink Duration',\n",
       "       'Queuing at Source Duration', 'Queuing Duration',\n",
       "       'Source Queuing Start Timestamp (GMT8)', 'SD_SCHEDULEDDOWNTIME',\n",
       "       'SDE_SCHEDULEDDOWNEQUIP', 'Cycle Start Timestamp (GMT8)', 'TC', 'TMPH',\n",
       "       'TOTALTIME (CAT)', 'Travelling Empty Duration',\n",
       "       'Travelling Full Duration', 'TRUCKQUEUEATSOURCEDURATION',\n",
       "       'UNSCHEDULEDDOWNCOUNT', 'UNSCHEDULEDDOWNTIME',\n",
       "       'Record Updated Timestamp (GMT8)', 'WAITFORDUMPDURATION',\n",
       "       'WAITFORLOADDURATION', 'WORKINGBURNRATE', 'WORKINGDURATION',\n",
       "       'Source Location Name', 'Source Location Description',\n",
       "       'Source Location is Active Flag', 'Source Location is Source Flag',\n",
       "       'Destination Location Name', 'Destination Location Description',\n",
       "       'Destination Location is Active Flag',\n",
       "       'Destination Location is Source Flag', 'Primary Machine Name',\n",
       "       'Primary Machine Category Name', 'Primary Machine Class Name',\n",
       "       'Secondary Machine Name', 'Secondary Machine Category Name',\n",
       "       'Secondary Machine Class Name', 'Crew OID', 'Job Code Description',\n",
       "       'Job Code Name', 'Job Type'],\n",
       "      dtype='object')"
      ]
     },
     "execution_count": 43,
     "metadata": {},
     "output_type": "execute_result"
    }
   ],
   "source": [
    "CD.columns"
   ]
  },
  {
   "cell_type": "code",
   "execution_count": 44,
   "id": "e93aecbc",
   "metadata": {},
   "outputs": [],
   "source": [
    "Cycle_Master = CD[['Cycle Type', 'Autonomous',\n",
    "       'Available SMU Time', 'Available Time', 'Completed Cycle Count',\n",
    "       'COMPLETEDCYCLEDURATION', 'CT Calendar SMU Time',\n",
    "       'CT Calendar Time', 'Cycle Duration', 'Cycle SMU Duration','Delay Time', 'Down Time', 'DTE Down Time Equipment',\n",
    "       'Dumping Duration', 'Dumping SMU Duration', 'Empty EFH Distance', 'Empty Expected Travel Duration',\n",
    "       'Empty Target Travel Duration', 'Empty Travel Duration', 'End Processor Name', 'Estimated Fuel Used', 'Fuel Used', \n",
    "       'Full Expected Travel Duration','Full Travel Duration', 'Idle Duration', 'iMine Engine Hours','iMine Operating Hours',\n",
    "       'Loading Duration', 'Loading Efficiency', 'OPERATINGTIME (CAT)', 'Payload (t)',\n",
    "       'PREVIOUSSECONDARYMACHINE', 'PREVIOUSSINKDESTINATION', 'QUEUEATSINKDURATION', 'Queuing at Sink Duration', \n",
    "       'Queuing at Source Duration', 'Queuing Duration','SD_SCHEDULEDDOWNTIME','SDE_SCHEDULEDDOWNEQUIP','TMPH', 'TOTALTIME (CAT)', \n",
    "       'Travelling Empty Duration','Travelling Full Duration', 'UNSCHEDULEDDOWNCOUNT', 'UNSCHEDULEDDOWNTIME',\n",
    "       'WAITFORDUMPDURATION', 'WAITFORLOADDURATION', 'WORKINGDURATION','IC','TC',\n",
    "       'Primary Machine Name', 'Primary Machine Category Name', 'Primary Machine Class Name',\n",
    "       'Secondary Machine Name', 'Secondary Machine Category Name', 'Secondary Machine Class Name', 'ASSOCPAYLOADNOMINAL']]"
   ]
  },
  {
   "cell_type": "code",
   "execution_count": 45,
   "id": "1882bed7",
   "metadata": {},
   "outputs": [],
   "source": [
    "Cycle_Master['Availability'] = Cycle_Master.apply(lambda row: ((row['CT Calendar Time']-row['SD_SCHEDULEDDOWNTIME'])/ row['CT Calendar Time'])*100 if row['CT Calendar Time'] != 0 else None, axis=1)"
   ]
  },
  {
   "cell_type": "code",
   "execution_count": 46,
   "id": "4cec4461",
   "metadata": {},
   "outputs": [],
   "source": [
    "Cycle_Master['Performance'] = Cycle_Master.apply(lambda row: ((row['WORKINGDURATION'])/ row['TOTALTIME (CAT)'])*100 if row['TOTALTIME (CAT)'] != 0 else None, axis=1)"
   ]
  },
  {
   "cell_type": "code",
   "execution_count": 47,
   "id": "0c49f9d5",
   "metadata": {},
   "outputs": [],
   "source": [
    "Cycle_Master['Quality'] = Cycle_Master.apply(lambda row: ((row['iMine Operating Hours'])/ row['iMine Engine Hours'])*100*(row['IC'])/(row['TC']) if row['iMine Engine Hours'] != 0 else None, axis=1)"
   ]
  },
  {
   "cell_type": "code",
   "execution_count": 48,
   "id": "69bc0952",
   "metadata": {},
   "outputs": [
    {
     "data": {
      "text/html": [
       "<div>\n",
       "<style scoped>\n",
       "    .dataframe tbody tr th:only-of-type {\n",
       "        vertical-align: middle;\n",
       "    }\n",
       "\n",
       "    .dataframe tbody tr th {\n",
       "        vertical-align: top;\n",
       "    }\n",
       "\n",
       "    .dataframe thead th {\n",
       "        text-align: right;\n",
       "    }\n",
       "</style>\n",
       "<table border=\"1\" class=\"dataframe\">\n",
       "  <thead>\n",
       "    <tr style=\"text-align: right;\">\n",
       "      <th></th>\n",
       "      <th>Cycle Type</th>\n",
       "      <th>Autonomous</th>\n",
       "      <th>Available SMU Time</th>\n",
       "      <th>Available Time</th>\n",
       "      <th>Completed Cycle Count</th>\n",
       "      <th>COMPLETEDCYCLEDURATION</th>\n",
       "      <th>CT Calendar SMU Time</th>\n",
       "      <th>CT Calendar Time</th>\n",
       "      <th>Cycle Duration</th>\n",
       "      <th>Cycle SMU Duration</th>\n",
       "      <th>...</th>\n",
       "      <th>Primary Machine Name</th>\n",
       "      <th>Primary Machine Category Name</th>\n",
       "      <th>Primary Machine Class Name</th>\n",
       "      <th>Secondary Machine Name</th>\n",
       "      <th>Secondary Machine Category Name</th>\n",
       "      <th>Secondary Machine Class Name</th>\n",
       "      <th>ASSOCPAYLOADNOMINAL</th>\n",
       "      <th>Availability</th>\n",
       "      <th>Performance</th>\n",
       "      <th>Quality</th>\n",
       "    </tr>\n",
       "  </thead>\n",
       "  <tbody>\n",
       "    <tr>\n",
       "      <th>0</th>\n",
       "      <td>TruckCycle</td>\n",
       "      <td>Yes</td>\n",
       "      <td>737</td>\n",
       "      <td>737</td>\n",
       "      <td>Yes</td>\n",
       "      <td>737</td>\n",
       "      <td>737</td>\n",
       "      <td>737</td>\n",
       "      <td>737</td>\n",
       "      <td>737</td>\n",
       "      <td>...</td>\n",
       "      <td>DT5209</td>\n",
       "      <td>Truck Classes</td>\n",
       "      <td>CAT 793F CMD</td>\n",
       "      <td>WL7058</td>\n",
       "      <td>Loader Classes</td>\n",
       "      <td>WA1200</td>\n",
       "      <td>NaN</td>\n",
       "      <td>100.0</td>\n",
       "      <td>92.130258</td>\n",
       "      <td>100.0</td>\n",
       "    </tr>\n",
       "    <tr>\n",
       "      <th>1</th>\n",
       "      <td>TruckCycle</td>\n",
       "      <td>Yes</td>\n",
       "      <td>527</td>\n",
       "      <td>527</td>\n",
       "      <td>Yes</td>\n",
       "      <td>527</td>\n",
       "      <td>527</td>\n",
       "      <td>527</td>\n",
       "      <td>527</td>\n",
       "      <td>527</td>\n",
       "      <td>...</td>\n",
       "      <td>DT5209</td>\n",
       "      <td>Truck Classes</td>\n",
       "      <td>CAT 793F CMD</td>\n",
       "      <td>WL7058</td>\n",
       "      <td>Loader Classes</td>\n",
       "      <td>WA1200</td>\n",
       "      <td>NaN</td>\n",
       "      <td>100.0</td>\n",
       "      <td>91.650854</td>\n",
       "      <td>100.0</td>\n",
       "    </tr>\n",
       "    <tr>\n",
       "      <th>2</th>\n",
       "      <td>TruckCycle</td>\n",
       "      <td>Yes</td>\n",
       "      <td>292</td>\n",
       "      <td>496</td>\n",
       "      <td>Yes</td>\n",
       "      <td>496</td>\n",
       "      <td>264</td>\n",
       "      <td>496</td>\n",
       "      <td>496</td>\n",
       "      <td>292</td>\n",
       "      <td>...</td>\n",
       "      <td>DT5283</td>\n",
       "      <td>Truck Classes</td>\n",
       "      <td>CAT 793F CMD</td>\n",
       "      <td>WL7058</td>\n",
       "      <td>Loader Classes</td>\n",
       "      <td>WA1200</td>\n",
       "      <td>NaN</td>\n",
       "      <td>100.0</td>\n",
       "      <td>86.693548</td>\n",
       "      <td>100.0</td>\n",
       "    </tr>\n",
       "    <tr>\n",
       "      <th>3</th>\n",
       "      <td>TruckCycle</td>\n",
       "      <td>Yes</td>\n",
       "      <td>420</td>\n",
       "      <td>714</td>\n",
       "      <td>Yes</td>\n",
       "      <td>714</td>\n",
       "      <td>403</td>\n",
       "      <td>714</td>\n",
       "      <td>714</td>\n",
       "      <td>420</td>\n",
       "      <td>...</td>\n",
       "      <td>DT5283</td>\n",
       "      <td>Truck Classes</td>\n",
       "      <td>CAT 793F CMD</td>\n",
       "      <td>WL7058</td>\n",
       "      <td>Loader Classes</td>\n",
       "      <td>WA1200</td>\n",
       "      <td>NaN</td>\n",
       "      <td>100.0</td>\n",
       "      <td>66.806723</td>\n",
       "      <td>100.0</td>\n",
       "    </tr>\n",
       "    <tr>\n",
       "      <th>4</th>\n",
       "      <td>TruckCycle</td>\n",
       "      <td>Yes</td>\n",
       "      <td>300</td>\n",
       "      <td>512</td>\n",
       "      <td>Yes</td>\n",
       "      <td>512</td>\n",
       "      <td>300</td>\n",
       "      <td>512</td>\n",
       "      <td>512</td>\n",
       "      <td>300</td>\n",
       "      <td>...</td>\n",
       "      <td>DT5283</td>\n",
       "      <td>Truck Classes</td>\n",
       "      <td>CAT 793F CMD</td>\n",
       "      <td>WL7058</td>\n",
       "      <td>Loader Classes</td>\n",
       "      <td>WA1200</td>\n",
       "      <td>NaN</td>\n",
       "      <td>100.0</td>\n",
       "      <td>84.570312</td>\n",
       "      <td>100.0</td>\n",
       "    </tr>\n",
       "  </tbody>\n",
       "</table>\n",
       "<p>5 rows × 60 columns</p>\n",
       "</div>"
      ],
      "text/plain": [
       "   Cycle Type Autonomous  Available SMU Time  Available Time  \\\n",
       "0  TruckCycle        Yes                 737             737   \n",
       "1  TruckCycle        Yes                 527             527   \n",
       "2  TruckCycle        Yes                 292             496   \n",
       "3  TruckCycle        Yes                 420             714   \n",
       "4  TruckCycle        Yes                 300             512   \n",
       "\n",
       "  Completed Cycle Count  COMPLETEDCYCLEDURATION  CT Calendar SMU Time  \\\n",
       "0                   Yes                     737                   737   \n",
       "1                   Yes                     527                   527   \n",
       "2                   Yes                     496                   264   \n",
       "3                   Yes                     714                   403   \n",
       "4                   Yes                     512                   300   \n",
       "\n",
       "   CT Calendar Time  Cycle Duration  Cycle SMU Duration  ...  \\\n",
       "0               737             737                 737  ...   \n",
       "1               527             527                 527  ...   \n",
       "2               496             496                 292  ...   \n",
       "3               714             714                 420  ...   \n",
       "4               512             512                 300  ...   \n",
       "\n",
       "   Primary Machine Name  Primary Machine Category Name  \\\n",
       "0                DT5209                  Truck Classes   \n",
       "1                DT5209                  Truck Classes   \n",
       "2                DT5283                  Truck Classes   \n",
       "3                DT5283                  Truck Classes   \n",
       "4                DT5283                  Truck Classes   \n",
       "\n",
       "   Primary Machine Class Name  Secondary Machine Name  \\\n",
       "0                CAT 793F CMD                  WL7058   \n",
       "1                CAT 793F CMD                  WL7058   \n",
       "2                CAT 793F CMD                  WL7058   \n",
       "3                CAT 793F CMD                  WL7058   \n",
       "4                CAT 793F CMD                  WL7058   \n",
       "\n",
       "   Secondary Machine Category Name  Secondary Machine Class Name  \\\n",
       "0                   Loader Classes                        WA1200   \n",
       "1                   Loader Classes                        WA1200   \n",
       "2                   Loader Classes                        WA1200   \n",
       "3                   Loader Classes                        WA1200   \n",
       "4                   Loader Classes                        WA1200   \n",
       "\n",
       "   ASSOCPAYLOADNOMINAL  Availability  Performance Quality  \n",
       "0                  NaN         100.0    92.130258   100.0  \n",
       "1                  NaN         100.0    91.650854   100.0  \n",
       "2                  NaN         100.0    86.693548   100.0  \n",
       "3                  NaN         100.0    66.806723   100.0  \n",
       "4                  NaN         100.0    84.570312   100.0  \n",
       "\n",
       "[5 rows x 60 columns]"
      ]
     },
     "execution_count": 48,
     "metadata": {},
     "output_type": "execute_result"
    }
   ],
   "source": [
    "Cycle_Master.head()"
   ]
  },
  {
   "cell_type": "code",
   "execution_count": 49,
   "id": "a3a39f65",
   "metadata": {},
   "outputs": [],
   "source": [
    "null_cols1 = ['Availability','Performance','Quality']"
   ]
  },
  {
   "cell_type": "code",
   "execution_count": 50,
   "id": "9371fdaa",
   "metadata": {},
   "outputs": [],
   "source": [
    "Cycle_Master.fillna({col: 0 for col in null_cols1}, inplace=True)"
   ]
  },
  {
   "cell_type": "code",
   "execution_count": 51,
   "id": "81851ade",
   "metadata": {},
   "outputs": [],
   "source": [
    "Cycle_Master['OEE'] = (Cycle_Master['Availability']) * (Cycle_Master['Performance']) * (Cycle_Master['Quality']) /10000"
   ]
  },
  {
   "cell_type": "code",
   "execution_count": 52,
   "id": "4b3ebab8",
   "metadata": {},
   "outputs": [
    {
     "data": {
      "text/html": [
       "<div>\n",
       "<style scoped>\n",
       "    .dataframe tbody tr th:only-of-type {\n",
       "        vertical-align: middle;\n",
       "    }\n",
       "\n",
       "    .dataframe tbody tr th {\n",
       "        vertical-align: top;\n",
       "    }\n",
       "\n",
       "    .dataframe thead th {\n",
       "        text-align: right;\n",
       "    }\n",
       "</style>\n",
       "<table border=\"1\" class=\"dataframe\">\n",
       "  <thead>\n",
       "    <tr style=\"text-align: right;\">\n",
       "      <th></th>\n",
       "      <th>Cycle Type</th>\n",
       "      <th>Autonomous</th>\n",
       "      <th>Available SMU Time</th>\n",
       "      <th>Available Time</th>\n",
       "      <th>Completed Cycle Count</th>\n",
       "      <th>COMPLETEDCYCLEDURATION</th>\n",
       "      <th>CT Calendar SMU Time</th>\n",
       "      <th>CT Calendar Time</th>\n",
       "      <th>Cycle Duration</th>\n",
       "      <th>Cycle SMU Duration</th>\n",
       "      <th>...</th>\n",
       "      <th>Primary Machine Category Name</th>\n",
       "      <th>Primary Machine Class Name</th>\n",
       "      <th>Secondary Machine Name</th>\n",
       "      <th>Secondary Machine Category Name</th>\n",
       "      <th>Secondary Machine Class Name</th>\n",
       "      <th>ASSOCPAYLOADNOMINAL</th>\n",
       "      <th>Availability</th>\n",
       "      <th>Performance</th>\n",
       "      <th>Quality</th>\n",
       "      <th>OEE</th>\n",
       "    </tr>\n",
       "  </thead>\n",
       "  <tbody>\n",
       "    <tr>\n",
       "      <th>0</th>\n",
       "      <td>TruckCycle</td>\n",
       "      <td>Yes</td>\n",
       "      <td>737</td>\n",
       "      <td>737</td>\n",
       "      <td>Yes</td>\n",
       "      <td>737</td>\n",
       "      <td>737</td>\n",
       "      <td>737</td>\n",
       "      <td>737</td>\n",
       "      <td>737</td>\n",
       "      <td>...</td>\n",
       "      <td>Truck Classes</td>\n",
       "      <td>CAT 793F CMD</td>\n",
       "      <td>WL7058</td>\n",
       "      <td>Loader Classes</td>\n",
       "      <td>WA1200</td>\n",
       "      <td>NaN</td>\n",
       "      <td>100.0</td>\n",
       "      <td>92.130258</td>\n",
       "      <td>100.0</td>\n",
       "      <td>92.130258</td>\n",
       "    </tr>\n",
       "    <tr>\n",
       "      <th>1</th>\n",
       "      <td>TruckCycle</td>\n",
       "      <td>Yes</td>\n",
       "      <td>527</td>\n",
       "      <td>527</td>\n",
       "      <td>Yes</td>\n",
       "      <td>527</td>\n",
       "      <td>527</td>\n",
       "      <td>527</td>\n",
       "      <td>527</td>\n",
       "      <td>527</td>\n",
       "      <td>...</td>\n",
       "      <td>Truck Classes</td>\n",
       "      <td>CAT 793F CMD</td>\n",
       "      <td>WL7058</td>\n",
       "      <td>Loader Classes</td>\n",
       "      <td>WA1200</td>\n",
       "      <td>NaN</td>\n",
       "      <td>100.0</td>\n",
       "      <td>91.650854</td>\n",
       "      <td>100.0</td>\n",
       "      <td>91.650854</td>\n",
       "    </tr>\n",
       "    <tr>\n",
       "      <th>2</th>\n",
       "      <td>TruckCycle</td>\n",
       "      <td>Yes</td>\n",
       "      <td>292</td>\n",
       "      <td>496</td>\n",
       "      <td>Yes</td>\n",
       "      <td>496</td>\n",
       "      <td>264</td>\n",
       "      <td>496</td>\n",
       "      <td>496</td>\n",
       "      <td>292</td>\n",
       "      <td>...</td>\n",
       "      <td>Truck Classes</td>\n",
       "      <td>CAT 793F CMD</td>\n",
       "      <td>WL7058</td>\n",
       "      <td>Loader Classes</td>\n",
       "      <td>WA1200</td>\n",
       "      <td>NaN</td>\n",
       "      <td>100.0</td>\n",
       "      <td>86.693548</td>\n",
       "      <td>100.0</td>\n",
       "      <td>86.693548</td>\n",
       "    </tr>\n",
       "    <tr>\n",
       "      <th>3</th>\n",
       "      <td>TruckCycle</td>\n",
       "      <td>Yes</td>\n",
       "      <td>420</td>\n",
       "      <td>714</td>\n",
       "      <td>Yes</td>\n",
       "      <td>714</td>\n",
       "      <td>403</td>\n",
       "      <td>714</td>\n",
       "      <td>714</td>\n",
       "      <td>420</td>\n",
       "      <td>...</td>\n",
       "      <td>Truck Classes</td>\n",
       "      <td>CAT 793F CMD</td>\n",
       "      <td>WL7058</td>\n",
       "      <td>Loader Classes</td>\n",
       "      <td>WA1200</td>\n",
       "      <td>NaN</td>\n",
       "      <td>100.0</td>\n",
       "      <td>66.806723</td>\n",
       "      <td>100.0</td>\n",
       "      <td>66.806723</td>\n",
       "    </tr>\n",
       "    <tr>\n",
       "      <th>4</th>\n",
       "      <td>TruckCycle</td>\n",
       "      <td>Yes</td>\n",
       "      <td>300</td>\n",
       "      <td>512</td>\n",
       "      <td>Yes</td>\n",
       "      <td>512</td>\n",
       "      <td>300</td>\n",
       "      <td>512</td>\n",
       "      <td>512</td>\n",
       "      <td>300</td>\n",
       "      <td>...</td>\n",
       "      <td>Truck Classes</td>\n",
       "      <td>CAT 793F CMD</td>\n",
       "      <td>WL7058</td>\n",
       "      <td>Loader Classes</td>\n",
       "      <td>WA1200</td>\n",
       "      <td>NaN</td>\n",
       "      <td>100.0</td>\n",
       "      <td>84.570312</td>\n",
       "      <td>100.0</td>\n",
       "      <td>84.570312</td>\n",
       "    </tr>\n",
       "  </tbody>\n",
       "</table>\n",
       "<p>5 rows × 61 columns</p>\n",
       "</div>"
      ],
      "text/plain": [
       "   Cycle Type Autonomous  Available SMU Time  Available Time  \\\n",
       "0  TruckCycle        Yes                 737             737   \n",
       "1  TruckCycle        Yes                 527             527   \n",
       "2  TruckCycle        Yes                 292             496   \n",
       "3  TruckCycle        Yes                 420             714   \n",
       "4  TruckCycle        Yes                 300             512   \n",
       "\n",
       "  Completed Cycle Count  COMPLETEDCYCLEDURATION  CT Calendar SMU Time  \\\n",
       "0                   Yes                     737                   737   \n",
       "1                   Yes                     527                   527   \n",
       "2                   Yes                     496                   264   \n",
       "3                   Yes                     714                   403   \n",
       "4                   Yes                     512                   300   \n",
       "\n",
       "   CT Calendar Time  Cycle Duration  Cycle SMU Duration  ...  \\\n",
       "0               737             737                 737  ...   \n",
       "1               527             527                 527  ...   \n",
       "2               496             496                 292  ...   \n",
       "3               714             714                 420  ...   \n",
       "4               512             512                 300  ...   \n",
       "\n",
       "   Primary Machine Category Name  Primary Machine Class Name  \\\n",
       "0                  Truck Classes                CAT 793F CMD   \n",
       "1                  Truck Classes                CAT 793F CMD   \n",
       "2                  Truck Classes                CAT 793F CMD   \n",
       "3                  Truck Classes                CAT 793F CMD   \n",
       "4                  Truck Classes                CAT 793F CMD   \n",
       "\n",
       "   Secondary Machine Name  Secondary Machine Category Name  \\\n",
       "0                  WL7058                   Loader Classes   \n",
       "1                  WL7058                   Loader Classes   \n",
       "2                  WL7058                   Loader Classes   \n",
       "3                  WL7058                   Loader Classes   \n",
       "4                  WL7058                   Loader Classes   \n",
       "\n",
       "   Secondary Machine Class Name  ASSOCPAYLOADNOMINAL  Availability  \\\n",
       "0                        WA1200                  NaN         100.0   \n",
       "1                        WA1200                  NaN         100.0   \n",
       "2                        WA1200                  NaN         100.0   \n",
       "3                        WA1200                  NaN         100.0   \n",
       "4                        WA1200                  NaN         100.0   \n",
       "\n",
       "   Performance  Quality        OEE  \n",
       "0    92.130258    100.0  92.130258  \n",
       "1    91.650854    100.0  91.650854  \n",
       "2    86.693548    100.0  86.693548  \n",
       "3    66.806723    100.0  66.806723  \n",
       "4    84.570312    100.0  84.570312  \n",
       "\n",
       "[5 rows x 61 columns]"
      ]
     },
     "execution_count": 52,
     "metadata": {},
     "output_type": "execute_result"
    }
   ],
   "source": [
    "Cycle_Master.head()"
   ]
  },
  {
   "cell_type": "code",
   "execution_count": 54,
   "id": "a283681c",
   "metadata": {},
   "outputs": [],
   "source": [
    "import sqlalchemy as sq\n",
    "from sqlalchemy import create_engine"
   ]
  },
  {
   "cell_type": "code",
   "execution_count": null,
   "id": "3ad3c4d8",
   "metadata": {},
   "outputs": [],
   "source": [
    "con = sq.create_engine(\"mysql://root:@letsdoit123@localhost/openpit\")\n",
    "Cycle_Master.to_sql(\"CycleMaster\",con)\n",
    "Truck_Movement.to_sql(\"TruckMovement\",con)\n",
    "Delay_Master.to_sql(\"DelayMaster\",con)\n",
    "LD.to_sql(\"LocationMaster\",con)"
   ]
  },
  {
   "cell_type": "code",
   "execution_count": 56,
   "id": "140b4a50",
   "metadata": {},
   "outputs": [
    {
     "data": {
      "text/plain": [
       "<AxesSubplot:xlabel='Cycle Type', ylabel='count'>"
      ]
     },
     "execution_count": 56,
     "metadata": {},
     "output_type": "execute_result"
    },
    {
     "data": {
      "image/png": "[encoded data removed]",
      "text/plain": [
       "<Figure size 432x288 with 1 Axes>"
      ]
     },
     "metadata": {
      "needs_background": "light"
     },
     "output_type": "display_data"
    }
   ],
   "source": [
    "sns.countplot('Cycle Type',hue='Completed Cycle Count', data =Cycle_Master)"
   ]
  },
  {
   "cell_type": "code",
   "execution_count": 57,
   "id": "bc2e6f10",
   "metadata": {},
   "outputs": [
    {
     "data": {
      "image/png": "[encoded data removed]",
      "text/plain": [
       "<Figure size 432x288 with 1 Axes>"
      ]
     },
     "metadata": {
      "needs_background": "light"
     },
     "output_type": "display_data"
    }
   ],
   "source": [
    "sns.countplot('Primary Machine Category Name',hue='Autonomous', data =Cycle_Master)\n",
    "plt.xticks(rotation=90)\n",
    "plt.show()"
   ]
  },
  {
   "cell_type": "code",
   "execution_count": 58,
   "id": "9bbc7954",
   "metadata": {},
   "outputs": [],
   "source": [
    "Cycle_Master_obj = Cycle_Master.select_dtypes(include='object').columns"
   ]
  },
  {
   "cell_type": "code",
   "execution_count": 59,
   "id": "2f791327",
   "metadata": {},
   "outputs": [
    {
     "data": {
      "image/png": "[encoded data removed]",
      "text/plain": [
       "<Figure size 432x288 with 1 Axes>"
      ]
     },
     "metadata": {
      "needs_background": "light"
     },
     "output_type": "display_data"
    },
    {
     "data": {
      "image/png": "[encoded data removed]",
      "text/plain": [
       "<Figure size 432x288 with 1 Axes>"
      ]
     },
     "metadata": {
      "needs_background": "light"
     },
     "output_type": "display_data"
    },
    {
     "data": {
      "image/png": "[encoded data removed]",
      "text/plain": [
       "<Figure size 432x288 with 1 Axes>"
      ]
     },
     "metadata": {
      "needs_background": "light"
     },
     "output_type": "display_data"
    },
    {
     "data": {
      "image/png": "[encoded data removed]",
      "text/plain": [
       "<Figure size 432x288 with 1 Axes>"
      ]
     },
     "metadata": {
      "needs_background": "light"
     },
     "output_type": "display_data"
    },
    {
     "data": {
      "image/png": "[encoded data removed]",
      "text/plain": [
       "<Figure size 432x288 with 1 Axes>"
      ]
     },
     "metadata": {
      "needs_background": "light"
     },
     "output_type": "display_data"
    },
    {
     "data": {
      "image/png": "[encoded data removed]",
      "text/plain": [
       "<Figure size 432x288 with 1 Axes>"
      ]
     },
     "metadata": {
      "needs_background": "light"
     },
     "output_type": "display_data"
    },
    {
     "data": {
      "image/png": "[encoded data removed]",
      "text/plain": [
       "<Figure size 432x288 with 1 Axes>"
      ]
     },
     "metadata": {
      "needs_background": "light"
     },
     "output_type": "display_data"
    },
    {
     "data": {
      "image/png": "[encoded data removed]",
      "text/plain": [
       "<Figure size 432x288 with 1 Axes>"
      ]
     },
     "metadata": {
      "needs_background": "light"
     },
     "output_type": "display_data"
    },
    {
     "data": {
      "image/png": "[encoded data removed]",
      "text/plain": [
       "<Figure size 432x288 with 1 Axes>"
      ]
     },
     "metadata": {
      "needs_background": "light"
     },
     "output_type": "display_data"
    },
    {
     "data": {
      "image/png": "[encoded data removed]",
      "text/plain": [
       "<Figure size 432x288 with 1 Axes>"
      ]
     },
     "metadata": {
      "needs_background": "light"
     },
     "output_type": "display_data"
    },
    {
     "data": {
      "image/png": "[encoded data removed]",
      "text/plain": [
       "<Figure size 432x288 with 1 Axes>"
      ]
     },
     "metadata": {
      "needs_background": "light"
     },
     "output_type": "display_data"
    },
    {
     "data": {
      "image/png": "[encoded data removed]",
      "text/plain": [
       "<Figure size 432x288 with 1 Axes>"
      ]
     },
     "metadata": {
      "needs_background": "light"
     },
     "output_type": "display_data"
    }
   ],
   "source": [
    "for column in Cycle_Master_obj[1:]:\n",
    "    sns.countplot(x= column, data = Cycle_Master)\n",
    "    plt.xticks(rotation=90)\n",
    "    plt.title(column)\n",
    "    plt.show()"
   ]
  },
  {
   "cell_type": "code",
   "execution_count": 61,
   "id": "82c2ed0c",
   "metadata": {},
   "outputs": [],
   "source": [
    "cycle_num = Cycle_Master.select_dtypes(exclude='object').columns"
   ]
  },
  {
   "cell_type": "code",
   "execution_count": 63,
   "id": "d890619a",
   "metadata": {},
   "outputs": [
    {
     "data": {
      "image/png": "[encoded data removed]",
      "text/plain": [
       "<Figure size 1080x288 with 1 Axes>"
      ]
     },
     "metadata": {
      "needs_background": "light"
     },
     "output_type": "display_data"
    },
    {
     "data": {
      "image/png": "[encoded data removed]",
      "text/plain": [
       "<Figure size 1080x288 with 1 Axes>"
      ]
     },
     "metadata": {
      "needs_background": "light"
     },
     "output_type": "display_data"
    },
    {
     "data": {
      "image/png": "[encoded data removed]",
      "text/plain": [
       "<Figure size 1080x288 with 1 Axes>"
      ]
     },
     "metadata": {
      "needs_background": "light"
     },
     "output_type": "display_data"
    },
    {
     "data": {
      "image/png": "[encoded data removed]",
      "text/plain": [
       "<Figure size 1080x288 with 1 Axes>"
      ]
     },
     "metadata": {
      "needs_background": "light"
     },
     "output_type": "display_data"
    },
    {
     "data": {
      "image/png": "[encoded data removed]",
      "text/plain": [
       "<Figure size 1080x288 with 1 Axes>"
      ]
     },
     "metadata": {
      "needs_background": "light"
     },
     "output_type": "display_data"
    },
    {
     "data": {
      "image/png": "[encoded data removed]",
      "text/plain": [
       "<Figure size 1080x288 with 1 Axes>"
      ]
     },
     "metadata": {
      "needs_background": "light"
     },
     "output_type": "display_data"
    },
    {
     "data": {
      "image/png": "[encoded data removed]",
      "text/plain": [
       "<Figure size 1080x288 with 1 Axes>"
      ]
     },
     "metadata": {
      "needs_background": "light"
     },
     "output_type": "display_data"
    },
    {
     "data": {
      "image/png": "[encoded data removed]",
      "text/plain": [
       "<Figure size 1080x288 with 1 Axes>"
      ]
     },
     "metadata": {
      "needs_background": "light"
     },
     "output_type": "display_data"
    },
    {
     "data": {
      "image/png": "[encoded data removed]",
      "text/plain": [
       "<Figure size 1080x288 with 1 Axes>"
      ]
     },
     "metadata": {
      "needs_background": "light"
     },
     "output_type": "display_data"
    },
    {
     "data": {
      "image/png": "[encoded data removed]",
      "text/plain": [
       "<Figure size 1080x288 with 1 Axes>"
      ]
     },
     "metadata": {
      "needs_background": "light"
     },
     "output_type": "display_data"
    },
    {
     "data": {
      "image/png": "[encoded data removed]",
      "text/plain": [
       "<Figure size 1080x288 with 1 Axes>"
      ]
     },
     "metadata": {
      "needs_background": "light"
     },
     "output_type": "display_data"
    },
    {
     "data": {
      "image/png": "[encoded data removed]",
      "text/plain": [
       "<Figure size 1080x288 with 1 Axes>"
      ]
     },
     "metadata": {
      "needs_background": "light"
     },
     "output_type": "display_data"
    },
    {
     "data": {
      "image/png": "[encoded data removed]",
      "text/plain": [
       "<Figure size 1080x288 with 1 Axes>"
      ]
     },
     "metadata": {
      "needs_background": "light"
     },
     "output_type": "display_data"
    },
    {
     "data": {
      "image/png": "[encoded data removed]",
      "text/plain": [
       "<Figure size 1080x288 with 1 Axes>"
      ]
     },
     "metadata": {
      "needs_background": "light"
     },
     "output_type": "display_data"
    },
    {
     "data": {
      "image/png": "[encoded data removed]",
      "text/plain": [
       "<Figure size 1080x288 with 1 Axes>"
      ]
     },
     "metadata": {
      "needs_background": "light"
     },
     "output_type": "display_data"
    },
    {
     "data": {
      "image/png": "[encoded data removed]",
      "text/plain": [
       "<Figure size 1080x288 with 1 Axes>"
      ]
     },
     "metadata": {
      "needs_background": "light"
     },
     "output_type": "display_data"
    },
    {
     "data": {
      "image/png": "[encoded data removed]",
      "text/plain": [
       "<Figure size 1080x288 with 1 Axes>"
      ]
     },
     "metadata": {
      "needs_background": "light"
     },
     "output_type": "display_data"
    },
    {
     "data": {
      "image/png": "[encoded data removed]",
      "text/plain": [
       "<Figure size 1080x288 with 1 Axes>"
      ]
     },
     "metadata": {
      "needs_background": "light"
     },
     "output_type": "display_data"
    },
    {
     "data": {
      "image/png": "[encoded data removed]",
      "text/plain": [
       "<Figure size 1080x288 with 1 Axes>"
      ]
     },
     "metadata": {
      "needs_background": "light"
     },
     "output_type": "display_data"
    },
    {
     "data": {
      "image/png": "[encoded data removed]",
      "text/plain": [
       "<Figure size 1080x288 with 1 Axes>"
      ]
     },
     "metadata": {
      "needs_background": "light"
     },
     "output_type": "display_data"
    },
    {
     "data": {
      "image/png": "[encoded data removed]",
      "text/plain": [
       "<Figure size 1080x288 with 1 Axes>"
      ]
     },
     "metadata": {
      "needs_background": "light"
     },
     "output_type": "display_data"
    },
    {
     "data": {
      "image/png": "[encoded data removed]",
      "text/plain": [
       "<Figure size 1080x288 with 1 Axes>"
      ]
     },
     "metadata": {
      "needs_background": "light"
     },
     "output_type": "display_data"
    },
    {
     "data": {
      "image/png": "[encoded data removed]",
      "text/plain": [
       "<Figure size 1080x288 with 1 Axes>"
      ]
     },
     "metadata": {
      "needs_background": "light"
     },
     "output_type": "display_data"
    },
    {
     "data": {
      "image/png": "[encoded data removed]",
      "text/plain": [
       "<Figure size 1080x288 with 1 Axes>"
      ]
     },
     "metadata": {
      "needs_background": "light"
     },
     "output_type": "display_data"
    },
    {
     "data": {
      "image/png": "[encoded data removed]",
      "text/plain": [
       "<Figure size 1080x288 with 1 Axes>"
      ]
     },
     "metadata": {
      "needs_background": "light"
     },
     "output_type": "display_data"
    },
    {
     "data": {
      "image/png": "[encoded data removed]",
      "text/plain": [
       "<Figure size 1080x288 with 1 Axes>"
      ]
     },
     "metadata": {
      "needs_background": "light"
     },
     "output_type": "display_data"
    },
    {
     "data": {
      "image/png": "[encoded data removed]",
      "text/plain": [
       "<Figure size 1080x288 with 1 Axes>"
      ]
     },
     "metadata": {
      "needs_background": "light"
     },
     "output_type": "display_data"
    },
    {
     "data": {
      "image/png": "[encoded data removed]",
      "text/plain": [
       "<Figure size 1080x288 with 1 Axes>"
      ]
     },
     "metadata": {
      "needs_background": "light"
     },
     "output_type": "display_data"
    },
    {
     "data": {
      "image/png": "[encoded data removed]",
      "text/plain": [
       "<Figure size 1080x288 with 1 Axes>"
      ]
     },
     "metadata": {
      "needs_background": "light"
     },
     "output_type": "display_data"
    },
    {
     "data": {
      "image/png": "[encoded data removed]",
      "text/plain": [
       "<Figure size 1080x288 with 1 Axes>"
      ]
     },
     "metadata": {
      "needs_background": "light"
     },
     "output_type": "display_data"
    },
    {
     "data": {
      "image/png": "[encoded data removed]",
      "text/plain": [
       "<Figure size 1080x288 with 1 Axes>"
      ]
     },
     "metadata": {
      "needs_background": "light"
     },
     "output_type": "display_data"
    },
    {
     "data": {
      "image/png": "[encoded data removed]",
      "text/plain": [
       "<Figure size 1080x288 with 1 Axes>"
      ]
     },
     "metadata": {
      "needs_background": "light"
     },
     "output_type": "display_data"
    },
    {
     "data": {
      "image/png": "[encoded data removed]",
      "text/plain": [
       "<Figure size 1080x288 with 1 Axes>"
      ]
     },
     "metadata": {
      "needs_background": "light"
     },
     "output_type": "display_data"
    },
    {
     "data": {
      "image/png": "[encoded data removed]",
      "text/plain": [
       "<Figure size 1080x288 with 1 Axes>"
      ]
     },
     "metadata": {
      "needs_background": "light"
     },
     "output_type": "display_data"
    },
    {
     "data": {
      "image/png": "[encoded data removed]",
      "text/plain": [
       "<Figure size 1080x288 with 1 Axes>"
      ]
     },
     "metadata": {
      "needs_background": "light"
     },
     "output_type": "display_data"
    },
    {
     "data": {
      "image/png": "[encoded data removed]",
      "text/plain": [
       "<Figure size 1080x288 with 1 Axes>"
      ]
     },
     "metadata": {
      "needs_background": "light"
     },
     "output_type": "display_data"
    },
    {
     "data": {
      "image/png": "[encoded data removed]",
      "text/plain": [
       "<Figure size 1080x288 with 1 Axes>"
      ]
     },
     "metadata": {
      "needs_background": "light"
     },
     "output_type": "display_data"
    },
    {
     "data": {
      "image/png": "[encoded data removed]",
      "text/plain": [
       "<Figure size 1080x288 with 1 Axes>"
      ]
     },
     "metadata": {
      "needs_background": "light"
     },
     "output_type": "display_data"
    },
    {
     "data": {
      "image/png": "[encoded data removed]",
      "text/plain": [
       "<Figure size 1080x288 with 1 Axes>"
      ]
     },
     "metadata": {
      "needs_background": "light"
     },
     "output_type": "display_data"
    },
    {
     "data": {
      "image/png": "[encoded data removed]",
      "text/plain": [
       "<Figure size 1080x288 with 1 Axes>"
      ]
     },
     "metadata": {
      "needs_background": "light"
     },
     "output_type": "display_data"
    },
    {
     "data": {
      "image/png": "[encoded data removed]",
      "text/plain": [
       "<Figure size 1080x288 with 1 Axes>"
      ]
     },
     "metadata": {
      "needs_background": "light"
     },
     "output_type": "display_data"
    },
    {
     "data": {
      "image/png": "[encoded data removed]",
      "text/plain": [
       "<Figure size 1080x288 with 1 Axes>"
      ]
     },
     "metadata": {
      "needs_background": "light"
     },
     "output_type": "display_data"
    },
    {
     "data": {
      "image/png": "[encoded data removed]",
      "text/plain": [
       "<Figure size 1080x288 with 1 Axes>"
      ]
     },
     "metadata": {
      "needs_background": "light"
     },
     "output_type": "display_data"
    },
    {
     "data": {
      "image/png": "[encoded data removed]",
      "text/plain": [
       "<Figure size 1080x288 with 1 Axes>"
      ]
     },
     "metadata": {
      "needs_background": "light"
     },
     "output_type": "display_data"
    },
    {
     "data": {
      "image/png": "[encoded data removed]",
      "text/plain": [
       "<Figure size 1080x288 with 1 Axes>"
      ]
     },
     "metadata": {
      "needs_background": "light"
     },
     "output_type": "display_data"
    },
    {
     "data": {
      "image/png": "[encoded data removed]",
      "text/plain": [
       "<Figure size 1080x288 with 1 Axes>"
      ]
     },
     "metadata": {
      "needs_background": "light"
     },
     "output_type": "display_data"
    },
    {
     "data": {
      "image/png": "[encoded data removed]",
      "text/plain": [
       "<Figure size 1080x288 with 1 Axes>"
      ]
     },
     "metadata": {
      "needs_background": "light"
     },
     "output_type": "display_data"
    }
   ],
   "source": [
    "for i in cycle_num[1:]:\n",
    "    plt.figure(figsize=(15,4))\n",
    "    sns.boxplot(Cycle_Master[i])\n",
    "    plt.show()"
   ]
  },
  {
   "cell_type": "code",
   "execution_count": null,
   "id": "4364616f",
   "metadata": {},
   "outputs": [],
   "source": []
  }
 ],
 "metadata": {
  "kernelspec": {
   "display_name": "Python 3",
   "language": "python",
   "name": "python3"
  },
  "language_info": {
   "codemirror_mode": {
    "name": "ipython",
    "version": 3
   },
   "file_extension": ".py",
   "mimetype": "text/x-python",
   "name": "python",
   "nbconvert_exporter": "python",
   "pygments_lexer": "ipython3",
   "version": "3.8.8"
  }
 },
 "nbformat": 4,
 "nbformat_minor": 5
}
